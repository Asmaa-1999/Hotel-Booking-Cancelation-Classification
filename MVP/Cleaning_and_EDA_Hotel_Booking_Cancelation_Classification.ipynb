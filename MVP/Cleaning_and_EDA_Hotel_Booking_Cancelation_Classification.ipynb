{
 "cells": [
  {
   "cell_type": "markdown",
   "metadata": {},
   "source": [
    "# Hotel Booking Cancelation Classification - Cleaning & EDA\n",
    "**By: Sarah Alabdulwahab & Asma Althakafi**\n",
    "> Our goal is to classify the customers that will cancel their hotel booking and those that will not.\n",
    "\n",
    "> In addition, we aim to perform 3 experiments:\n",
    "1. Fit the models on the data after cleaning.\n",
    "2. Fit the models on the data without outliers.\n",
    "3. Fit the models on the data with feature selection methods."
   ]
  },
  {
   "cell_type": "markdown",
   "metadata": {},
   "source": [
    "## Data Description \n",
    "> This dataset contains booking information for a city hotel and a resort hotel, and includes information such as when the booking was made, length of stay, the number of adults, children, and/or babies, and the number of available parking spaces, among other things."
   ]
  },
  {
   "cell_type": "code",
   "execution_count": 160,
   "metadata": {},
   "outputs": [],
   "source": [
    "# supress warnings\n",
    "import warnings\n",
    "from pandas.core.common import SettingWithCopyWarning\n",
    "warnings.simplefilter(action=\"ignore\", category=SettingWithCopyWarning)\n",
    "warnings.simplefilter(action='ignore', category=FutureWarning)\n",
    "warnings.simplefilter(action='ignore', category=UserWarning)\n",
    "\n",
    "# data manipulation imports\n",
    "import pandas as pd\n",
    "import numpy as np\n",
    "import re\n",
    "\n",
    "# visualization imports\n",
    "import seaborn as sns\n",
    "import matplotlib.pyplot as plt\n",
    "%matplotlib inline\n",
    "\n",
    "# web scraping imports\n",
    "import requests\n",
    "from bs4 import BeautifulSoup"
   ]
  },
  {
   "cell_type": "markdown",
   "metadata": {},
   "source": [
    "## Hotel Booking Data"
   ]
  },
  {
   "cell_type": "code",
   "execution_count": 161,
   "metadata": {},
   "outputs": [
    {
     "data": {
      "text/html": [
       "<div>\n",
       "<style scoped>\n",
       "    .dataframe tbody tr th:only-of-type {\n",
       "        vertical-align: middle;\n",
       "    }\n",
       "\n",
       "    .dataframe tbody tr th {\n",
       "        vertical-align: top;\n",
       "    }\n",
       "\n",
       "    .dataframe thead th {\n",
       "        text-align: right;\n",
       "    }\n",
       "</style>\n",
       "<table border=\"1\" class=\"dataframe\">\n",
       "  <thead>\n",
       "    <tr style=\"text-align: right;\">\n",
       "      <th></th>\n",
       "      <th>hotel</th>\n",
       "      <th>is_canceled</th>\n",
       "      <th>lead_time</th>\n",
       "      <th>arrival_date_year</th>\n",
       "      <th>arrival_date_month</th>\n",
       "      <th>arrival_date_week_number</th>\n",
       "      <th>arrival_date_day_of_month</th>\n",
       "      <th>stays_in_weekend_nights</th>\n",
       "      <th>stays_in_week_nights</th>\n",
       "      <th>adults</th>\n",
       "      <th>...</th>\n",
       "      <th>deposit_type</th>\n",
       "      <th>agent</th>\n",
       "      <th>company</th>\n",
       "      <th>days_in_waiting_list</th>\n",
       "      <th>customer_type</th>\n",
       "      <th>adr</th>\n",
       "      <th>required_car_parking_spaces</th>\n",
       "      <th>total_of_special_requests</th>\n",
       "      <th>reservation_status</th>\n",
       "      <th>reservation_status_date</th>\n",
       "    </tr>\n",
       "  </thead>\n",
       "  <tbody>\n",
       "    <tr>\n",
       "      <th>0</th>\n",
       "      <td>Resort Hotel</td>\n",
       "      <td>0</td>\n",
       "      <td>342</td>\n",
       "      <td>2015</td>\n",
       "      <td>July</td>\n",
       "      <td>27</td>\n",
       "      <td>1</td>\n",
       "      <td>0</td>\n",
       "      <td>0</td>\n",
       "      <td>2</td>\n",
       "      <td>...</td>\n",
       "      <td>No Deposit</td>\n",
       "      <td>NaN</td>\n",
       "      <td>NaN</td>\n",
       "      <td>0</td>\n",
       "      <td>Transient</td>\n",
       "      <td>0.0</td>\n",
       "      <td>0</td>\n",
       "      <td>0</td>\n",
       "      <td>Check-Out</td>\n",
       "      <td>2015-07-01</td>\n",
       "    </tr>\n",
       "    <tr>\n",
       "      <th>1</th>\n",
       "      <td>Resort Hotel</td>\n",
       "      <td>0</td>\n",
       "      <td>737</td>\n",
       "      <td>2015</td>\n",
       "      <td>July</td>\n",
       "      <td>27</td>\n",
       "      <td>1</td>\n",
       "      <td>0</td>\n",
       "      <td>0</td>\n",
       "      <td>2</td>\n",
       "      <td>...</td>\n",
       "      <td>No Deposit</td>\n",
       "      <td>NaN</td>\n",
       "      <td>NaN</td>\n",
       "      <td>0</td>\n",
       "      <td>Transient</td>\n",
       "      <td>0.0</td>\n",
       "      <td>0</td>\n",
       "      <td>0</td>\n",
       "      <td>Check-Out</td>\n",
       "      <td>2015-07-01</td>\n",
       "    </tr>\n",
       "    <tr>\n",
       "      <th>2</th>\n",
       "      <td>Resort Hotel</td>\n",
       "      <td>0</td>\n",
       "      <td>7</td>\n",
       "      <td>2015</td>\n",
       "      <td>July</td>\n",
       "      <td>27</td>\n",
       "      <td>1</td>\n",
       "      <td>0</td>\n",
       "      <td>1</td>\n",
       "      <td>1</td>\n",
       "      <td>...</td>\n",
       "      <td>No Deposit</td>\n",
       "      <td>NaN</td>\n",
       "      <td>NaN</td>\n",
       "      <td>0</td>\n",
       "      <td>Transient</td>\n",
       "      <td>75.0</td>\n",
       "      <td>0</td>\n",
       "      <td>0</td>\n",
       "      <td>Check-Out</td>\n",
       "      <td>2015-07-02</td>\n",
       "    </tr>\n",
       "    <tr>\n",
       "      <th>3</th>\n",
       "      <td>Resort Hotel</td>\n",
       "      <td>0</td>\n",
       "      <td>13</td>\n",
       "      <td>2015</td>\n",
       "      <td>July</td>\n",
       "      <td>27</td>\n",
       "      <td>1</td>\n",
       "      <td>0</td>\n",
       "      <td>1</td>\n",
       "      <td>1</td>\n",
       "      <td>...</td>\n",
       "      <td>No Deposit</td>\n",
       "      <td>304.0</td>\n",
       "      <td>NaN</td>\n",
       "      <td>0</td>\n",
       "      <td>Transient</td>\n",
       "      <td>75.0</td>\n",
       "      <td>0</td>\n",
       "      <td>0</td>\n",
       "      <td>Check-Out</td>\n",
       "      <td>2015-07-02</td>\n",
       "    </tr>\n",
       "    <tr>\n",
       "      <th>4</th>\n",
       "      <td>Resort Hotel</td>\n",
       "      <td>0</td>\n",
       "      <td>14</td>\n",
       "      <td>2015</td>\n",
       "      <td>July</td>\n",
       "      <td>27</td>\n",
       "      <td>1</td>\n",
       "      <td>0</td>\n",
       "      <td>2</td>\n",
       "      <td>2</td>\n",
       "      <td>...</td>\n",
       "      <td>No Deposit</td>\n",
       "      <td>240.0</td>\n",
       "      <td>NaN</td>\n",
       "      <td>0</td>\n",
       "      <td>Transient</td>\n",
       "      <td>98.0</td>\n",
       "      <td>0</td>\n",
       "      <td>1</td>\n",
       "      <td>Check-Out</td>\n",
       "      <td>2015-07-03</td>\n",
       "    </tr>\n",
       "  </tbody>\n",
       "</table>\n",
       "<p>5 rows × 32 columns</p>\n",
       "</div>"
      ],
      "text/plain": [
       "          hotel  is_canceled  lead_time  arrival_date_year arrival_date_month  \\\n",
       "0  Resort Hotel            0        342               2015               July   \n",
       "1  Resort Hotel            0        737               2015               July   \n",
       "2  Resort Hotel            0          7               2015               July   \n",
       "3  Resort Hotel            0         13               2015               July   \n",
       "4  Resort Hotel            0         14               2015               July   \n",
       "\n",
       "   arrival_date_week_number  arrival_date_day_of_month  \\\n",
       "0                        27                          1   \n",
       "1                        27                          1   \n",
       "2                        27                          1   \n",
       "3                        27                          1   \n",
       "4                        27                          1   \n",
       "\n",
       "   stays_in_weekend_nights  stays_in_week_nights  adults  ...  deposit_type  \\\n",
       "0                        0                     0       2  ...    No Deposit   \n",
       "1                        0                     0       2  ...    No Deposit   \n",
       "2                        0                     1       1  ...    No Deposit   \n",
       "3                        0                     1       1  ...    No Deposit   \n",
       "4                        0                     2       2  ...    No Deposit   \n",
       "\n",
       "   agent company days_in_waiting_list customer_type   adr  \\\n",
       "0    NaN     NaN                    0     Transient   0.0   \n",
       "1    NaN     NaN                    0     Transient   0.0   \n",
       "2    NaN     NaN                    0     Transient  75.0   \n",
       "3  304.0     NaN                    0     Transient  75.0   \n",
       "4  240.0     NaN                    0     Transient  98.0   \n",
       "\n",
       "   required_car_parking_spaces  total_of_special_requests  reservation_status  \\\n",
       "0                            0                          0           Check-Out   \n",
       "1                            0                          0           Check-Out   \n",
       "2                            0                          0           Check-Out   \n",
       "3                            0                          0           Check-Out   \n",
       "4                            0                          1           Check-Out   \n",
       "\n",
       "  reservation_status_date  \n",
       "0              2015-07-01  \n",
       "1              2015-07-01  \n",
       "2              2015-07-02  \n",
       "3              2015-07-02  \n",
       "4              2015-07-03  \n",
       "\n",
       "[5 rows x 32 columns]"
      ]
     },
     "execution_count": 161,
     "metadata": {},
     "output_type": "execute_result"
    }
   ],
   "source": [
    "bookings_df = pd.read_csv(\"hotel_bookings.csv\")\n",
    "bookings_df.head()"
   ]
  },
  {
   "cell_type": "code",
   "execution_count": 162,
   "metadata": {},
   "outputs": [
    {
     "name": "stdout",
     "output_type": "stream",
     "text": [
      "The dataset contains 119390 observations and 32 features\n"
     ]
    }
   ],
   "source": [
    "print('The dataset contains',bookings_df.shape[0],'observations and',bookings_df.shape[1],'features')"
   ]
  },
  {
   "cell_type": "code",
   "execution_count": 163,
   "metadata": {},
   "outputs": [
    {
     "name": "stdout",
     "output_type": "stream",
     "text": [
      "<class 'pandas.core.frame.DataFrame'>\n",
      "RangeIndex: 119390 entries, 0 to 119389\n",
      "Data columns (total 32 columns):\n",
      " #   Column                          Non-Null Count   Dtype  \n",
      "---  ------                          --------------   -----  \n",
      " 0   hotel                           119390 non-null  object \n",
      " 1   is_canceled                     119390 non-null  int64  \n",
      " 2   lead_time                       119390 non-null  int64  \n",
      " 3   arrival_date_year               119390 non-null  int64  \n",
      " 4   arrival_date_month              119390 non-null  object \n",
      " 5   arrival_date_week_number        119390 non-null  int64  \n",
      " 6   arrival_date_day_of_month       119390 non-null  int64  \n",
      " 7   stays_in_weekend_nights         119390 non-null  int64  \n",
      " 8   stays_in_week_nights            119390 non-null  int64  \n",
      " 9   adults                          119390 non-null  int64  \n",
      " 10  children                        119386 non-null  float64\n",
      " 11  babies                          119390 non-null  int64  \n",
      " 12  meal                            119390 non-null  object \n",
      " 13  country                         118902 non-null  object \n",
      " 14  market_segment                  119390 non-null  object \n",
      " 15  distribution_channel            119390 non-null  object \n",
      " 16  is_repeated_guest               119390 non-null  int64  \n",
      " 17  previous_cancellations          119390 non-null  int64  \n",
      " 18  previous_bookings_not_canceled  119390 non-null  int64  \n",
      " 19  reserved_room_type              119390 non-null  object \n",
      " 20  assigned_room_type              119390 non-null  object \n",
      " 21  booking_changes                 119390 non-null  int64  \n",
      " 22  deposit_type                    119390 non-null  object \n",
      " 23  agent                           103050 non-null  float64\n",
      " 24  company                         6797 non-null    float64\n",
      " 25  days_in_waiting_list            119390 non-null  int64  \n",
      " 26  customer_type                   119390 non-null  object \n",
      " 27  adr                             119390 non-null  float64\n",
      " 28  required_car_parking_spaces     119390 non-null  int64  \n",
      " 29  total_of_special_requests       119390 non-null  int64  \n",
      " 30  reservation_status              119390 non-null  object \n",
      " 31  reservation_status_date         119390 non-null  object \n",
      "dtypes: float64(4), int64(16), object(12)\n",
      "memory usage: 29.1+ MB\n"
     ]
    }
   ],
   "source": [
    "bookings_df.info()"
   ]
  },
  {
   "cell_type": "markdown",
   "metadata": {},
   "source": [
    "### Cleaning"
   ]
  },
  {
   "cell_type": "code",
   "execution_count": 164,
   "metadata": {},
   "outputs": [
    {
     "data": {
      "text/plain": [
       "hotel                                  0\n",
       "is_canceled                            0\n",
       "lead_time                              0\n",
       "arrival_date_year                      0\n",
       "arrival_date_month                     0\n",
       "arrival_date_week_number               0\n",
       "arrival_date_day_of_month              0\n",
       "stays_in_weekend_nights                0\n",
       "stays_in_week_nights                   0\n",
       "adults                                 0\n",
       "children                               4\n",
       "babies                                 0\n",
       "meal                                   0\n",
       "country                              488\n",
       "market_segment                         0\n",
       "distribution_channel                   0\n",
       "is_repeated_guest                      0\n",
       "previous_cancellations                 0\n",
       "previous_bookings_not_canceled         0\n",
       "reserved_room_type                     0\n",
       "assigned_room_type                     0\n",
       "booking_changes                        0\n",
       "deposit_type                           0\n",
       "agent                              16340\n",
       "company                           112593\n",
       "days_in_waiting_list                   0\n",
       "customer_type                          0\n",
       "adr                                    0\n",
       "required_car_parking_spaces            0\n",
       "total_of_special_requests              0\n",
       "reservation_status                     0\n",
       "reservation_status_date                0\n",
       "dtype: int64"
      ]
     },
     "execution_count": 164,
     "metadata": {},
     "output_type": "execute_result"
    }
   ],
   "source": [
    "#check for nulls\n",
    "bookings_df.isnull().sum()"
   ]
  },
  {
   "cell_type": "code",
   "execution_count": 165,
   "metadata": {},
   "outputs": [],
   "source": [
    "#Since company and agent have too many null values, we decided to drop them.\n",
    "bookings_df.drop(columns=['company','agent'], inplace=True)"
   ]
  },
  {
   "cell_type": "code",
   "execution_count": 166,
   "metadata": {},
   "outputs": [],
   "source": [
    "#drop nulls\n",
    "bookings_df.dropna(inplace=True)"
   ]
  },
  {
   "cell_type": "code",
   "execution_count": 167,
   "metadata": {},
   "outputs": [
    {
     "data": {
      "text/plain": [
       "31984"
      ]
     },
     "execution_count": 167,
     "metadata": {},
     "output_type": "execute_result"
    }
   ],
   "source": [
    "#check for duplicated rows\n",
    "bookings_df.duplicated().sum()"
   ]
  },
  {
   "cell_type": "code",
   "execution_count": 168,
   "metadata": {},
   "outputs": [],
   "source": [
    "#remove duplicated rows but only keep the first occurance\n",
    "bookings_df.drop_duplicates(keep=\"first\",inplace=True) "
   ]
  },
  {
   "cell_type": "code",
   "execution_count": 169,
   "metadata": {},
   "outputs": [],
   "source": [
    "#reseting the index after dropping\n",
    "bookings_df.reset_index(drop=True, inplace=True)"
   ]
  },
  {
   "cell_type": "code",
   "execution_count": 170,
   "metadata": {},
   "outputs": [
    {
     "name": "stdout",
     "output_type": "stream",
     "text": [
      "After cleaning, the dataset contains 86914 observations and 30 features\n"
     ]
    }
   ],
   "source": [
    "print('After cleaning, the dataset contains',bookings_df.shape[0],'observations and',bookings_df.shape[1],'features')"
   ]
  },
  {
   "cell_type": "markdown",
   "metadata": {},
   "source": [
    "### Discovering the Features"
   ]
  },
  {
   "cell_type": "markdown",
   "metadata": {},
   "source": [
    "**The numerical features**"
   ]
  },
  {
   "cell_type": "code",
   "execution_count": 171,
   "metadata": {},
   "outputs": [
    {
     "name": "stdout",
     "output_type": "stream",
     "text": [
      "['is_canceled', 'lead_time', 'arrival_date_year', 'arrival_date_week_number', 'arrival_date_day_of_month', 'stays_in_weekend_nights', 'stays_in_week_nights', 'adults', 'children', 'babies', 'is_repeated_guest', 'previous_cancellations', 'previous_bookings_not_canceled', 'booking_changes', 'days_in_waiting_list', 'adr', 'required_car_parking_spaces', 'total_of_special_requests']\n"
     ]
    }
   ],
   "source": [
    "num_features = list(bookings_df.select_dtypes(include= ['int64', 'float64']).columns)\n",
    "print(num_features)"
   ]
  },
  {
   "cell_type": "code",
   "execution_count": 172,
   "metadata": {},
   "outputs": [
    {
     "name": "stdout",
     "output_type": "stream",
     "text": [
      "There are 18 numerical features\n"
     ]
    }
   ],
   "source": [
    "print('There are',len(num_features),'numerical features')"
   ]
  },
  {
   "cell_type": "markdown",
   "metadata": {},
   "source": [
    "**`lead_time`**: Number of days that elapsed between the entering date of the booking into the PMS and the arrival date."
   ]
  },
  {
   "cell_type": "code",
   "execution_count": 173,
   "metadata": {},
   "outputs": [
    {
     "data": {
      "text/plain": [
       "479"
      ]
     },
     "execution_count": 173,
     "metadata": {},
     "output_type": "execute_result"
    }
   ],
   "source": [
    "#number of unique values\n",
    "bookings_df.lead_time.nunique()"
   ]
  },
  {
   "cell_type": "code",
   "execution_count": 174,
   "metadata": {},
   "outputs": [
    {
     "data": {
      "image/png": "[encoded data removed]",
      "text/plain": [
       "<Figure size 1440x360 with 2 Axes>"
      ]
     },
     "metadata": {
      "needs_background": "light"
     },
     "output_type": "display_data"
    }
   ],
   "source": [
    "fig, axs = plt.subplots(2, figsize=(20,5))\n",
    "sns.boxplot(\"lead_time\", data=bookings_df, ax=axs[0]);\n",
    "sns.distplot(bookings_df['lead_time'], ax=axs[1]);"
   ]
  },
  {
   "cell_type": "code",
   "execution_count": 175,
   "metadata": {},
   "outputs": [
    {
     "data": {
      "text/plain": [
       "0    5857\n",
       "1    3148\n",
       "2    1889\n",
       "3    1689\n",
       "4    1551\n",
       "Name: lead_time, dtype: int64"
      ]
     },
     "execution_count": 175,
     "metadata": {},
     "output_type": "execute_result"
    }
   ],
   "source": [
    "#5 most occurring values\n",
    "bookings_df.lead_time.value_counts().head()"
   ]
  },
  {
   "cell_type": "code",
   "execution_count": 176,
   "metadata": {},
   "outputs": [
    {
     "data": {
      "text/plain": [
       "458    1\n",
       "507    1\n",
       "709    1\n",
       "400    1\n",
       "424    1\n",
       "Name: lead_time, dtype: int64"
      ]
     },
     "execution_count": 176,
     "metadata": {},
     "output_type": "execute_result"
    }
   ],
   "source": [
    "#5 least occurring values\n",
    "bookings_df.lead_time.value_counts().tail()"
   ]
  },
  {
   "cell_type": "code",
   "execution_count": 177,
   "metadata": {},
   "outputs": [],
   "source": [
    "#remove the outliers\n",
    "Q1 = bookings_df['lead_time'].quantile(0.25)\n",
    "Q3 = bookings_df['lead_time'].quantile(0.75)\n",
    "IQR = Q3 - Q1 \n",
    "bookings_df_no_outliers = bookings_df.loc[(bookings_df['lead_time'] >= Q1 - 1.5 * IQR) & \n",
    "                                          (bookings_df['lead_time'] <= Q3 + 1.5 *IQR)]"
   ]
  },
  {
   "cell_type": "markdown",
   "metadata": {},
   "source": [
    "**`arrival_date_year`**: Year of arrival date."
   ]
  },
  {
   "cell_type": "code",
   "execution_count": 178,
   "metadata": {},
   "outputs": [
    {
     "data": {
      "text/plain": [
       "3"
      ]
     },
     "execution_count": 178,
     "metadata": {},
     "output_type": "execute_result"
    }
   ],
   "source": [
    "#number of unique values\n",
    "bookings_df.arrival_date_year.nunique()"
   ]
  },
  {
   "cell_type": "code",
   "execution_count": 179,
   "metadata": {},
   "outputs": [
    {
     "data": {
      "image/png": "[encoded data removed]",
      "text/plain": [
       "<Figure size 1440x216 with 1 Axes>"
      ]
     },
     "metadata": {
      "needs_background": "light"
     },
     "output_type": "display_data"
    }
   ],
   "source": [
    "plt.figure(figsize=(20,3))\n",
    "sns.countplot(bookings_df['arrival_date_year'], palette = sns.color_palette(\"Blues\")[1::2], \n",
    "              order = bookings_df['arrival_date_year'].value_counts().index);"
   ]
  },
  {
   "cell_type": "code",
   "execution_count": 180,
   "metadata": {},
   "outputs": [
    {
     "data": {
      "text/plain": [
       "2016    42114\n",
       "2017    31606\n",
       "2015    13194\n",
       "Name: arrival_date_year, dtype: int64"
      ]
     },
     "execution_count": 180,
     "metadata": {},
     "output_type": "execute_result"
    }
   ],
   "source": [
    "#occurrance of values\n",
    "bookings_df.arrival_date_year.value_counts()"
   ]
  },
  {
   "cell_type": "markdown",
   "metadata": {},
   "source": [
    "**`arrival_date_week_number`**: Week number of year for arrival date."
   ]
  },
  {
   "cell_type": "code",
   "execution_count": 181,
   "metadata": {},
   "outputs": [
    {
     "data": {
      "text/plain": [
       "53"
      ]
     },
     "execution_count": 181,
     "metadata": {},
     "output_type": "execute_result"
    }
   ],
   "source": [
    "#number of unique values\n",
    "bookings_df.arrival_date_week_number.nunique()"
   ]
  },
  {
   "cell_type": "code",
   "execution_count": 182,
   "metadata": {},
   "outputs": [
    {
     "data": {
      "image/png": "[encoded data removed]",
      "text/plain": [
       "<Figure size 1440x360 with 2 Axes>"
      ]
     },
     "metadata": {
      "needs_background": "light"
     },
     "output_type": "display_data"
    }
   ],
   "source": [
    "fig, axs = plt.subplots(2, figsize=(20,5))\n",
    "sns.boxplot(\"arrival_date_week_number\", data=bookings_df, ax=axs[0]);\n",
    "sns.distplot(bookings_df['arrival_date_week_number'], ax=axs[1]);"
   ]
  },
  {
   "cell_type": "code",
   "execution_count": 183,
   "metadata": {},
   "outputs": [
    {
     "data": {
      "text/plain": [
       "33    2784\n",
       "34    2488\n",
       "32    2442\n",
       "28    2335\n",
       "30    2326\n",
       "Name: arrival_date_week_number, dtype: int64"
      ]
     },
     "execution_count": 183,
     "metadata": {},
     "output_type": "execute_result"
    }
   ],
   "source": [
    "#5 most occurring values\n",
    "bookings_df.arrival_date_week_number.value_counts().head()"
   ]
  },
  {
   "cell_type": "code",
   "execution_count": 184,
   "metadata": {},
   "outputs": [
    {
     "data": {
      "text/plain": [
       "50    1043\n",
       "3     1030\n",
       "2      939\n",
       "1      859\n",
       "51     767\n",
       "Name: arrival_date_week_number, dtype: int64"
      ]
     },
     "execution_count": 184,
     "metadata": {},
     "output_type": "execute_result"
    }
   ],
   "source": [
    "#5 least occurring values\n",
    "bookings_df.arrival_date_week_number.value_counts().tail()"
   ]
  },
  {
   "cell_type": "markdown",
   "metadata": {},
   "source": [
    "**`arrival_date_day_of_month`**: Day of arrival date."
   ]
  },
  {
   "cell_type": "code",
   "execution_count": 185,
   "metadata": {},
   "outputs": [
    {
     "data": {
      "text/plain": [
       "31"
      ]
     },
     "execution_count": 185,
     "metadata": {},
     "output_type": "execute_result"
    }
   ],
   "source": [
    "#number of unique values\n",
    "bookings_df.arrival_date_day_of_month.nunique()"
   ]
  },
  {
   "cell_type": "code",
   "execution_count": 186,
   "metadata": {},
   "outputs": [
    {
     "data": {
      "image/png": "[encoded data removed]",
      "text/plain": [
       "<Figure size 1440x720 with 3 Axes>"
      ]
     },
     "metadata": {
      "needs_background": "light"
     },
     "output_type": "display_data"
    }
   ],
   "source": [
    "fig, axs = plt.subplots(3, figsize=(20,10))\n",
    "sns.boxplot(\"arrival_date_day_of_month\", data=bookings_df, ax=axs[0]);\n",
    "sns.distplot(bookings_df['arrival_date_day_of_month'], ax=axs[1]);\n",
    "sns.countplot(bookings_df['arrival_date_day_of_month'], palette = sns.color_palette(\"Blues\")[1::2], \n",
    "              order = bookings_df['arrival_date_day_of_month'].value_counts().index, ax = axs[2]);"
   ]
  },
  {
   "cell_type": "code",
   "execution_count": 187,
   "metadata": {},
   "outputs": [
    {
     "data": {
      "text/plain": [
       "17    3002\n",
       "2     2997\n",
       "26    2990\n",
       "5     2965\n",
       "16    2939\n",
       "Name: arrival_date_day_of_month, dtype: int64"
      ]
     },
     "execution_count": 187,
     "metadata": {},
     "output_type": "execute_result"
    }
   ],
   "source": [
    "#5 most occurring values\n",
    "bookings_df.arrival_date_day_of_month.value_counts().head()"
   ]
  },
  {
   "cell_type": "code",
   "execution_count": 188,
   "metadata": {},
   "outputs": [
    {
     "data": {
      "text/plain": [
       "1     2753\n",
       "7     2694\n",
       "14    2672\n",
       "22    2589\n",
       "31    1724\n",
       "Name: arrival_date_day_of_month, dtype: int64"
      ]
     },
     "execution_count": 188,
     "metadata": {},
     "output_type": "execute_result"
    }
   ],
   "source": [
    "#5 least occurring values\n",
    "bookings_df.arrival_date_day_of_month.value_counts().tail()"
   ]
  },
  {
   "cell_type": "markdown",
   "metadata": {},
   "source": [
    "**`stays_in_weekend_nights`**: Number of weekend nights (Saturday or Sunday) the guest stayed or booked to stay at the hotel."
   ]
  },
  {
   "cell_type": "code",
   "execution_count": 189,
   "metadata": {},
   "outputs": [
    {
     "data": {
      "text/plain": [
       "15"
      ]
     },
     "execution_count": 189,
     "metadata": {},
     "output_type": "execute_result"
    }
   ],
   "source": [
    "#number of unique values\n",
    "bookings_df.stays_in_weekend_nights.nunique()"
   ]
  },
  {
   "cell_type": "code",
   "execution_count": 190,
   "metadata": {},
   "outputs": [
    {
     "data": {
      "image/png": "[encoded data removed]",
      "text/plain": [
       "<Figure size 1440x720 with 3 Axes>"
      ]
     },
     "metadata": {
      "needs_background": "light"
     },
     "output_type": "display_data"
    }
   ],
   "source": [
    "fig, axs = plt.subplots(3, figsize=(20,10))\n",
    "sns.boxplot(\"stays_in_weekend_nights\", data=bookings_df, ax=axs[0]);\n",
    "sns.distplot(bookings_df['stays_in_weekend_nights'], ax=axs[1]);\n",
    "sns.countplot(bookings_df['stays_in_weekend_nights'], palette = sns.color_palette(\"Blues\")[1::2], \n",
    "              order = bookings_df['stays_in_weekend_nights'].value_counts().index, ax = axs[2]);"
   ]
  },
  {
   "cell_type": "code",
   "execution_count": 191,
   "metadata": {},
   "outputs": [
    {
     "data": {
      "text/plain": [
       "0    34839\n",
       "2    26367\n",
       "1    22549\n",
       "4     1728\n",
       "3     1144\n",
       "Name: stays_in_weekend_nights, dtype: int64"
      ]
     },
     "execution_count": 191,
     "metadata": {},
     "output_type": "execute_result"
    }
   ],
   "source": [
    "#5 most occurring values\n",
    "bookings_df.stays_in_weekend_nights.value_counts().head()"
   ]
  },
  {
   "cell_type": "code",
   "execution_count": 192,
   "metadata": {},
   "outputs": [
    {
     "data": {
      "text/plain": [
       "10    7\n",
       "12    5\n",
       "13    3\n",
       "16    3\n",
       "14    2\n",
       "Name: stays_in_weekend_nights, dtype: int64"
      ]
     },
     "execution_count": 192,
     "metadata": {},
     "output_type": "execute_result"
    }
   ],
   "source": [
    "#5 least occurring values\n",
    "bookings_df.stays_in_weekend_nights.value_counts().tail()"
   ]
  },
  {
   "cell_type": "code",
   "execution_count": 193,
   "metadata": {},
   "outputs": [],
   "source": [
    "#remove the outliers\n",
    "bookings_df_no_outliers = bookings_df_no_outliers[(bookings_df_no_outliers['stays_in_weekend_nights'] >= 0) & \n",
    "                                                  (bookings_df_no_outliers['stays_in_weekend_nights'] <= 10)]"
   ]
  },
  {
   "cell_type": "markdown",
   "metadata": {},
   "source": [
    "**`stays_in_week_nights`**: Number of weeknights (Monday to Friday) the guest stayed or booked to stay at the hotel."
   ]
  },
  {
   "cell_type": "code",
   "execution_count": 194,
   "metadata": {},
   "outputs": [
    {
     "data": {
      "text/plain": [
       "33"
      ]
     },
     "execution_count": 194,
     "metadata": {},
     "output_type": "execute_result"
    }
   ],
   "source": [
    "#number of unique values\n",
    "bookings_df.stays_in_week_nights.nunique()"
   ]
  },
  {
   "cell_type": "code",
   "execution_count": 195,
   "metadata": {},
   "outputs": [
    {
     "data": {
      "image/png": "[encoded data removed]",
      "text/plain": [
       "<Figure size 1440x720 with 3 Axes>"
      ]
     },
     "metadata": {
      "needs_background": "light"
     },
     "output_type": "display_data"
    }
   ],
   "source": [
    "fig, axs = plt.subplots(3, figsize=(20,10))\n",
    "sns.boxplot(\"stays_in_week_nights\", data=bookings_df, ax=axs[0]);\n",
    "sns.distplot(bookings_df['stays_in_week_nights'], ax=axs[1]);\n",
    "sns.countplot(bookings_df['stays_in_week_nights'], palette = sns.color_palette(\"Blues\")[1::2], \n",
    "              order = bookings_df['stays_in_week_nights'].value_counts().index, ax = axs[2]);"
   ]
  },
  {
   "cell_type": "code",
   "execution_count": 196,
   "metadata": {},
   "outputs": [
    {
     "data": {
      "text/plain": [
       "1    21964\n",
       "2    20633\n",
       "3    16215\n",
       "5     9645\n",
       "4     7863\n",
       "Name: stays_in_week_nights, dtype: int64"
      ]
     },
     "execution_count": 196,
     "metadata": {},
     "output_type": "execute_result"
    }
   ],
   "source": [
    "#5 most occurring values\n",
    "bookings_df.stays_in_week_nights.value_counts().head()"
   ]
  },
  {
   "cell_type": "code",
   "execution_count": 197,
   "metadata": {},
   "outputs": [
    {
     "data": {
      "text/plain": [
       "32    1\n",
       "33    1\n",
       "34    1\n",
       "35    1\n",
       "41    1\n",
       "Name: stays_in_week_nights, dtype: int64"
      ]
     },
     "execution_count": 197,
     "metadata": {},
     "output_type": "execute_result"
    }
   ],
   "source": [
    "#5 least occurring values\n",
    "bookings_df.stays_in_week_nights.value_counts().tail()"
   ]
  },
  {
   "cell_type": "code",
   "execution_count": 198,
   "metadata": {},
   "outputs": [],
   "source": [
    "#remove the outliers\n",
    "bookings_df_no_outliers = bookings_df_no_outliers[(bookings_df_no_outliers['stays_in_week_nights'] >= 0) &\n",
    "                                                  (bookings_df_no_outliers['stays_in_week_nights'] <= 20)]"
   ]
  },
  {
   "cell_type": "markdown",
   "metadata": {},
   "source": [
    "**`adults`**: Number of adults."
   ]
  },
  {
   "cell_type": "code",
   "execution_count": 199,
   "metadata": {},
   "outputs": [
    {
     "data": {
      "text/plain": [
       "14"
      ]
     },
     "execution_count": 199,
     "metadata": {},
     "output_type": "execute_result"
    }
   ],
   "source": [
    "#number of unique values\n",
    "bookings_df.adults.nunique()"
   ]
  },
  {
   "cell_type": "code",
   "execution_count": 200,
   "metadata": {},
   "outputs": [
    {
     "data": {
      "image/png": "[encoded data removed]",
      "text/plain": [
       "<Figure size 1440x720 with 3 Axes>"
      ]
     },
     "metadata": {
      "needs_background": "light"
     },
     "output_type": "display_data"
    }
   ],
   "source": [
    "fig, axs = plt.subplots(3, figsize=(20,10))\n",
    "sns.boxplot(\"adults\", data=bookings_df, ax=axs[0]);\n",
    "sns.distplot(bookings_df['adults'], ax=axs[1]);\n",
    "sns.countplot(bookings_df['adults'], palette = sns.color_palette(\"Blues\")[1::2], \n",
    "              order = bookings_df['adults'].value_counts().index, ax = axs[2]);"
   ]
  },
  {
   "cell_type": "code",
   "execution_count": 201,
   "metadata": {},
   "outputs": [
    {
     "data": {
      "text/plain": [
       "2    64324\n",
       "1    16204\n",
       "3     5930\n",
       "0      380\n",
       "4       60\n",
       "Name: adults, dtype: int64"
      ]
     },
     "execution_count": 201,
     "metadata": {},
     "output_type": "execute_result"
    }
   ],
   "source": [
    "#5 most occurring values\n",
    "bookings_df.adults.value_counts().head()"
   ]
  },
  {
   "cell_type": "code",
   "execution_count": 202,
   "metadata": {},
   "outputs": [
    {
     "data": {
      "text/plain": [
       "6     1\n",
       "10    1\n",
       "40    1\n",
       "50    1\n",
       "55    1\n",
       "Name: adults, dtype: int64"
      ]
     },
     "execution_count": 202,
     "metadata": {},
     "output_type": "execute_result"
    }
   ],
   "source": [
    "#5 least occurring values\n",
    "bookings_df.adults.value_counts().tail()"
   ]
  },
  {
   "cell_type": "markdown",
   "metadata": {},
   "source": [
    "It seems like there is a mistake in the adults feature, as 0 adults makes no sense. Therefore, we will exclude this from the main dataframe."
   ]
  },
  {
   "cell_type": "code",
   "execution_count": 203,
   "metadata": {},
   "outputs": [],
   "source": [
    "bookings_df = bookings_df[bookings_df.adults > 0]"
   ]
  },
  {
   "cell_type": "code",
   "execution_count": 204,
   "metadata": {},
   "outputs": [],
   "source": [
    "#remove the outliers\n",
    "bookings_df_no_outliers = bookings_df_no_outliers[(bookings_df_no_outliers.adults > 0) &\n",
    "                                                  (bookings_df_no_outliers.adults <= 4)]"
   ]
  },
  {
   "cell_type": "markdown",
   "metadata": {},
   "source": [
    "**`children`**: Number of children."
   ]
  },
  {
   "cell_type": "code",
   "execution_count": 205,
   "metadata": {},
   "outputs": [
    {
     "data": {
      "text/plain": [
       "5"
      ]
     },
     "execution_count": 205,
     "metadata": {},
     "output_type": "execute_result"
    }
   ],
   "source": [
    "#number of unique values\n",
    "bookings_df.children.nunique()"
   ]
  },
  {
   "cell_type": "code",
   "execution_count": 206,
   "metadata": {},
   "outputs": [
    {
     "data": {
      "image/png": "[encoded data removed]",
      "text/plain": [
       "<Figure size 1440x720 with 3 Axes>"
      ]
     },
     "metadata": {
      "needs_background": "light"
     },
     "output_type": "display_data"
    }
   ],
   "source": [
    "fig, axs = plt.subplots(3, figsize=(20,10))\n",
    "sns.boxplot(\"children\", data=bookings_df, ax=axs[0]);\n",
    "sns.distplot(bookings_df['children'], ax=axs[1]);\n",
    "sns.countplot(bookings_df['children'], palette = sns.color_palette(\"Blues\")[1::2], \n",
    "              order = bookings_df['children'].value_counts().index, ax = axs[2]);"
   ]
  },
  {
   "cell_type": "code",
   "execution_count": 207,
   "metadata": {},
   "outputs": [
    {
     "data": {
      "text/plain": [
       "0.0     78400\n",
       "1.0      4682\n",
       "2.0      3387\n",
       "3.0        64\n",
       "10.0        1\n",
       "Name: children, dtype: int64"
      ]
     },
     "execution_count": 207,
     "metadata": {},
     "output_type": "execute_result"
    }
   ],
   "source": [
    "#occurrance of values\n",
    "bookings_df.children.value_counts()"
   ]
  },
  {
   "cell_type": "code",
   "execution_count": 208,
   "metadata": {},
   "outputs": [],
   "source": [
    "#remove the outliers\n",
    "bookings_df_no_outliers = bookings_df_no_outliers[bookings_df_no_outliers.children != 10]"
   ]
  },
  {
   "cell_type": "markdown",
   "metadata": {},
   "source": [
    "**`babies`**: Number of babies."
   ]
  },
  {
   "cell_type": "code",
   "execution_count": 209,
   "metadata": {},
   "outputs": [
    {
     "data": {
      "text/plain": [
       "5"
      ]
     },
     "execution_count": 209,
     "metadata": {},
     "output_type": "execute_result"
    }
   ],
   "source": [
    "#number of unique values\n",
    "bookings_df.babies.nunique()"
   ]
  },
  {
   "cell_type": "code",
   "execution_count": 210,
   "metadata": {},
   "outputs": [
    {
     "data": {
      "image/png": "[encoded data removed]",
      "text/plain": [
       "<Figure size 1440x720 with 3 Axes>"
      ]
     },
     "metadata": {
      "needs_background": "light"
     },
     "output_type": "display_data"
    }
   ],
   "source": [
    "fig, axs = plt.subplots(3, figsize=(20,10))\n",
    "sns.boxplot(\"babies\", data=bookings_df, ax=axs[0]);\n",
    "sns.distplot(bookings_df['babies'], ax=axs[1]);\n",
    "sns.countplot(bookings_df['babies'], palette = sns.color_palette(\"Blues\")[1::2], \n",
    "              order = bookings_df['babies'].value_counts().index, ax = axs[2]);"
   ]
  },
  {
   "cell_type": "code",
   "execution_count": 211,
   "metadata": {},
   "outputs": [
    {
     "data": {
      "text/plain": [
       "0     85628\n",
       "1       890\n",
       "2        14\n",
       "9         1\n",
       "10        1\n",
       "Name: babies, dtype: int64"
      ]
     },
     "execution_count": 211,
     "metadata": {},
     "output_type": "execute_result"
    }
   ],
   "source": [
    "#occurrance of values\n",
    "bookings_df.babies.value_counts()"
   ]
  },
  {
   "cell_type": "code",
   "execution_count": 212,
   "metadata": {},
   "outputs": [],
   "source": [
    "#remove the outliers\n",
    "bookings_df_no_outliers = bookings_df_no_outliers[bookings_df_no_outliers.babies < 2]"
   ]
  },
  {
   "cell_type": "markdown",
   "metadata": {},
   "source": [
    "**`is_repeated_guest`**: Value indicating if the booking name was from a repeated guest (1) or not (0)."
   ]
  },
  {
   "cell_type": "code",
   "execution_count": 213,
   "metadata": {},
   "outputs": [
    {
     "data": {
      "text/plain": [
       "2"
      ]
     },
     "execution_count": 213,
     "metadata": {},
     "output_type": "execute_result"
    }
   ],
   "source": [
    "#number of unique values\n",
    "bookings_df.is_repeated_guest.nunique()"
   ]
  },
  {
   "cell_type": "code",
   "execution_count": 214,
   "metadata": {},
   "outputs": [
    {
     "data": {
      "image/png": "[encoded data removed]",
      "text/plain": [
       "<Figure size 1440x720 with 3 Axes>"
      ]
     },
     "metadata": {
      "needs_background": "light"
     },
     "output_type": "display_data"
    }
   ],
   "source": [
    "fig, axs = plt.subplots(3, figsize=(20,10))\n",
    "sns.boxplot(\"is_repeated_guest\", data=bookings_df, ax=axs[0]);\n",
    "sns.distplot(bookings_df['is_repeated_guest'], ax=axs[1]);\n",
    "sns.countplot(bookings_df['is_repeated_guest'], palette = sns.color_palette(\"Blues\")[1::2], \n",
    "              order = bookings_df['is_repeated_guest'].value_counts().index, ax = axs[2]);"
   ]
  },
  {
   "cell_type": "markdown",
   "metadata": {},
   "source": [
    "Evidently, the values are either 0 or 1, making this a categorical feature"
   ]
  },
  {
   "cell_type": "code",
   "execution_count": 215,
   "metadata": {},
   "outputs": [
    {
     "data": {
      "text/plain": [
       "0    83175\n",
       "1     3359\n",
       "Name: is_repeated_guest, dtype: int64"
      ]
     },
     "execution_count": 215,
     "metadata": {},
     "output_type": "execute_result"
    }
   ],
   "source": [
    "#occurrance of values\n",
    "bookings_df.is_repeated_guest.value_counts()"
   ]
  },
  {
   "cell_type": "markdown",
   "metadata": {},
   "source": [
    "**`previous_cancellations`**: Number of previous bookings that were canceled by the customer prior to the current booking."
   ]
  },
  {
   "cell_type": "code",
   "execution_count": 216,
   "metadata": {},
   "outputs": [
    {
     "data": {
      "text/plain": [
       "15"
      ]
     },
     "execution_count": 216,
     "metadata": {},
     "output_type": "execute_result"
    }
   ],
   "source": [
    "#number of unique values\n",
    "bookings_df.previous_cancellations.nunique()"
   ]
  },
  {
   "cell_type": "code",
   "execution_count": 217,
   "metadata": {},
   "outputs": [
    {
     "data": {
      "image/png": "[encoded data removed]",
      "text/plain": [
       "<Figure size 1440x720 with 3 Axes>"
      ]
     },
     "metadata": {
      "needs_background": "light"
     },
     "output_type": "display_data"
    }
   ],
   "source": [
    "fig, axs = plt.subplots(3, figsize=(20,10))\n",
    "sns.boxplot(\"previous_cancellations\", data=bookings_df, ax=axs[0]);\n",
    "sns.distplot(bookings_df['previous_cancellations'], ax=axs[1]);\n",
    "sns.countplot(bookings_df['previous_cancellations'], palette = sns.color_palette(\"Blues\")[1::2], \n",
    "              order = bookings_df['previous_cancellations'].value_counts().index, ax = axs[2]);"
   ]
  },
  {
   "cell_type": "code",
   "execution_count": 218,
   "metadata": {},
   "outputs": [
    {
     "data": {
      "text/plain": [
       "0    84882\n",
       "1     1379\n",
       "2      107\n",
       "3       61\n",
       "4       30\n",
       "Name: previous_cancellations, dtype: int64"
      ]
     },
     "execution_count": 218,
     "metadata": {},
     "output_type": "execute_result"
    }
   ],
   "source": [
    "#5 most occurring values\n",
    "bookings_df.previous_cancellations.value_counts().head()"
   ]
  },
  {
   "cell_type": "code",
   "execution_count": 219,
   "metadata": {},
   "outputs": [
    {
     "data": {
      "text/plain": [
       "25    2\n",
       "14    1\n",
       "19    1\n",
       "21    1\n",
       "26    1\n",
       "Name: previous_cancellations, dtype: int64"
      ]
     },
     "execution_count": 219,
     "metadata": {},
     "output_type": "execute_result"
    }
   ],
   "source": [
    "#5 least occurring values\n",
    "bookings_df.previous_cancellations.value_counts().tail()"
   ]
  },
  {
   "cell_type": "code",
   "execution_count": 220,
   "metadata": {},
   "outputs": [],
   "source": [
    "#remove the outliers\n",
    "bookings_df_no_outliers = bookings_df_no_outliers[bookings_df_no_outliers.previous_cancellations <= 4]"
   ]
  },
  {
   "cell_type": "markdown",
   "metadata": {},
   "source": [
    "**`previous_bookings_not_canceled`**: Number of previous bookings not canceled by the customer prior to the current booking."
   ]
  },
  {
   "cell_type": "code",
   "execution_count": 221,
   "metadata": {},
   "outputs": [
    {
     "data": {
      "text/plain": [
       "73"
      ]
     },
     "execution_count": 221,
     "metadata": {},
     "output_type": "execute_result"
    }
   ],
   "source": [
    "#number of unique values\n",
    "bookings_df.previous_bookings_not_canceled.nunique()"
   ]
  },
  {
   "cell_type": "code",
   "execution_count": 222,
   "metadata": {},
   "outputs": [
    {
     "data": {
      "image/png": "[encoded data removed]",
      "text/plain": [
       "<Figure size 1440x360 with 2 Axes>"
      ]
     },
     "metadata": {
      "needs_background": "light"
     },
     "output_type": "display_data"
    }
   ],
   "source": [
    "fig, axs = plt.subplots(2, figsize=(20,5))\n",
    "sns.boxplot(\"previous_bookings_not_canceled\", data=bookings_df, ax=axs[0]);\n",
    "sns.distplot(bookings_df['previous_bookings_not_canceled'], ax=axs[1]);"
   ]
  },
  {
   "cell_type": "code",
   "execution_count": 223,
   "metadata": {},
   "outputs": [
    {
     "data": {
      "text/plain": [
       "0    83220\n",
       "1     1387\n",
       "2      536\n",
       "3      299\n",
       "4      208\n",
       "Name: previous_bookings_not_canceled, dtype: int64"
      ]
     },
     "execution_count": 223,
     "metadata": {},
     "output_type": "execute_result"
    }
   ],
   "source": [
    "#5 most occurring values\n",
    "bookings_df.previous_bookings_not_canceled.value_counts().head()"
   ]
  },
  {
   "cell_type": "code",
   "execution_count": 224,
   "metadata": {},
   "outputs": [
    {
     "data": {
      "text/plain": [
       "38    1\n",
       "39    1\n",
       "71    1\n",
       "41    1\n",
       "63    1\n",
       "Name: previous_bookings_not_canceled, dtype: int64"
      ]
     },
     "execution_count": 224,
     "metadata": {},
     "output_type": "execute_result"
    }
   ],
   "source": [
    "#5 least occurring values\n",
    "bookings_df.previous_bookings_not_canceled.value_counts().tail()"
   ]
  },
  {
   "cell_type": "code",
   "execution_count": 225,
   "metadata": {},
   "outputs": [],
   "source": [
    "#remove the outliers\n",
    "bookings_df_no_outliers = bookings_df_no_outliers[bookings_df_no_outliers.previous_bookings_not_canceled <= 10]"
   ]
  },
  {
   "cell_type": "markdown",
   "metadata": {},
   "source": [
    "**`booking_changes`**: Number of changes/amendments made to the booking from the moment the booking was entered on the PMS until the moment of check-in or cancellation."
   ]
  },
  {
   "cell_type": "code",
   "execution_count": 226,
   "metadata": {},
   "outputs": [
    {
     "data": {
      "text/plain": [
       "19"
      ]
     },
     "execution_count": 226,
     "metadata": {},
     "output_type": "execute_result"
    }
   ],
   "source": [
    "#number of unique values\n",
    "bookings_df.booking_changes.nunique()"
   ]
  },
  {
   "cell_type": "code",
   "execution_count": 227,
   "metadata": {},
   "outputs": [
    {
     "data": {
      "image/png": "[encoded data removed]",
      "text/plain": [
       "<Figure size 1440x720 with 3 Axes>"
      ]
     },
     "metadata": {
      "needs_background": "light"
     },
     "output_type": "display_data"
    }
   ],
   "source": [
    "fig, axs = plt.subplots(3, figsize=(20,10))\n",
    "sns.boxplot(\"booking_changes\", data=bookings_df, ax=axs[0]);\n",
    "sns.distplot(bookings_df['booking_changes'], ax=axs[1]);\n",
    "sns.countplot(bookings_df['booking_changes'], palette = sns.color_palette(\"Blues\")[1::2], \n",
    "              order = bookings_df['booking_changes'].value_counts().index, ax = axs[2]);"
   ]
  },
  {
   "cell_type": "code",
   "execution_count": 228,
   "metadata": {},
   "outputs": [
    {
     "data": {
      "text/plain": [
       "0    70867\n",
       "1    10760\n",
       "2     3462\n",
       "3      856\n",
       "4      346\n",
       "Name: booking_changes, dtype: int64"
      ]
     },
     "execution_count": 228,
     "metadata": {},
     "output_type": "execute_result"
    }
   ],
   "source": [
    "#5 most occurring values\n",
    "bookings_df.booking_changes.value_counts().head()"
   ]
  },
  {
   "cell_type": "code",
   "execution_count": 229,
   "metadata": {},
   "outputs": [
    {
     "data": {
      "text/plain": [
       "16    2\n",
       "17    2\n",
       "11    1\n",
       "12    1\n",
       "18    1\n",
       "Name: booking_changes, dtype: int64"
      ]
     },
     "execution_count": 229,
     "metadata": {},
     "output_type": "execute_result"
    }
   ],
   "source": [
    "#5 least occurring values\n",
    "bookings_df.booking_changes.value_counts().tail()"
   ]
  },
  {
   "cell_type": "code",
   "execution_count": 230,
   "metadata": {},
   "outputs": [],
   "source": [
    "#remove the outliers\n",
    "bookings_df_no_outliers = bookings_df_no_outliers[bookings_df_no_outliers.booking_changes <= 5]"
   ]
  },
  {
   "cell_type": "markdown",
   "metadata": {},
   "source": [
    "**`days_in_waiting_list`**: Number of days the booking was on the waiting list before it was confirmed to the customer."
   ]
  },
  {
   "cell_type": "code",
   "execution_count": 231,
   "metadata": {},
   "outputs": [
    {
     "data": {
      "image/png": "[encoded data removed]",
      "text/plain": [
       "<Figure size 1440x72 with 1 Axes>"
      ]
     },
     "metadata": {
      "needs_background": "light"
     },
     "output_type": "display_data"
    }
   ],
   "source": [
    "#distribution\n",
    "plt.figure(figsize=(20,1))\n",
    "sns.boxplot(\"days_in_waiting_list\", data=bookings_df);"
   ]
  },
  {
   "cell_type": "code",
   "execution_count": 232,
   "metadata": {},
   "outputs": [
    {
     "data": {
      "text/plain": [
       "127"
      ]
     },
     "execution_count": 232,
     "metadata": {},
     "output_type": "execute_result"
    }
   ],
   "source": [
    "#number of unique values\n",
    "bookings_df.days_in_waiting_list.nunique()"
   ]
  },
  {
   "cell_type": "code",
   "execution_count": 233,
   "metadata": {},
   "outputs": [
    {
     "data": {
      "image/png": "[encoded data removed]",
      "text/plain": [
       "<Figure size 1440x360 with 2 Axes>"
      ]
     },
     "metadata": {
      "needs_background": "light"
     },
     "output_type": "display_data"
    }
   ],
   "source": [
    "fig, axs = plt.subplots(2, figsize=(20,5))\n",
    "sns.boxplot(\"days_in_waiting_list\", data=bookings_df, ax=axs[0]);\n",
    "sns.distplot(bookings_df['days_in_waiting_list'], ax=axs[1]);"
   ]
  },
  {
   "cell_type": "code",
   "execution_count": 234,
   "metadata": {},
   "outputs": [
    {
     "data": {
      "text/plain": [
       "0     85679\n",
       "63       53\n",
       "87       25\n",
       "44       23\n",
       "15       22\n",
       "Name: days_in_waiting_list, dtype: int64"
      ]
     },
     "execution_count": 234,
     "metadata": {},
     "output_type": "execute_result"
    }
   ],
   "source": [
    "#5 most occurring values\n",
    "bookings_df.days_in_waiting_list.value_counts().head()"
   ]
  },
  {
   "cell_type": "code",
   "execution_count": 235,
   "metadata": {},
   "outputs": [
    {
     "data": {
      "text/plain": [
       "45     1\n",
       "109    1\n",
       "175    1\n",
       "70     1\n",
       "165    1\n",
       "Name: days_in_waiting_list, dtype: int64"
      ]
     },
     "execution_count": 235,
     "metadata": {},
     "output_type": "execute_result"
    }
   ],
   "source": [
    "#5 least occurring values\n",
    "bookings_df.days_in_waiting_list.value_counts().tail()"
   ]
  },
  {
   "cell_type": "code",
   "execution_count": 236,
   "metadata": {},
   "outputs": [],
   "source": [
    "#remove the outliers\n",
    "bookings_df_no_outliers = bookings_df_no_outliers[bookings_df_no_outliers.days_in_waiting_list <= 100]"
   ]
  },
  {
   "cell_type": "markdown",
   "metadata": {},
   "source": [
    "**`adr`**: Average Daily Rate as defined by dividing the sum of all lodging transactions by the total number of staying nights."
   ]
  },
  {
   "cell_type": "code",
   "execution_count": 237,
   "metadata": {},
   "outputs": [
    {
     "data": {
      "text/plain": [
       "8850"
      ]
     },
     "execution_count": 237,
     "metadata": {},
     "output_type": "execute_result"
    }
   ],
   "source": [
    "#number of unique values\n",
    "bookings_df.adr.nunique()"
   ]
  },
  {
   "cell_type": "code",
   "execution_count": 238,
   "metadata": {},
   "outputs": [
    {
     "data": {
      "image/png": "[encoded data removed]",
      "text/plain": [
       "<Figure size 1440x360 with 2 Axes>"
      ]
     },
     "metadata": {
      "needs_background": "light"
     },
     "output_type": "display_data"
    }
   ],
   "source": [
    "fig, axs = plt.subplots(2, figsize=(20,5))\n",
    "sns.boxplot(\"adr\", data=bookings_df, ax=axs[0]);\n",
    "sns.distplot(bookings_df['adr'], ax=axs[1]);"
   ]
  },
  {
   "cell_type": "code",
   "execution_count": 239,
   "metadata": {},
   "outputs": [
    {
     "data": {
      "text/plain": [
       "0.0     1626\n",
       "75.0    1314\n",
       "65.0    1253\n",
       "85.0     858\n",
       "48.0     855\n",
       "Name: adr, dtype: int64"
      ]
     },
     "execution_count": 239,
     "metadata": {},
     "output_type": "execute_result"
    }
   ],
   "source": [
    "#5 most occurring values\n",
    "bookings_df.adr.value_counts().head()"
   ]
  },
  {
   "cell_type": "code",
   "execution_count": 240,
   "metadata": {},
   "outputs": [
    {
     "data": {
      "text/plain": [
       "130.23    1\n",
       "244.43    1\n",
       "103.79    1\n",
       "226.17    1\n",
       "82.24     1\n",
       "Name: adr, dtype: int64"
      ]
     },
     "execution_count": 240,
     "metadata": {},
     "output_type": "execute_result"
    }
   ],
   "source": [
    "#5 least occurring values\n",
    "bookings_df.adr.value_counts().tail()"
   ]
  },
  {
   "cell_type": "code",
   "execution_count": 241,
   "metadata": {},
   "outputs": [],
   "source": [
    "#remove the outliers\n",
    "Q1 = bookings_df['adr'].quantile(0.25)\n",
    "Q3 = bookings_df['adr'].quantile(0.75)\n",
    "IQR = Q3 - Q1 \n",
    "bookings_df_no_outliers = bookings_df.loc[(bookings_df['adr'] >= Q1 - 1.5 * IQR)&(bookings_df['adr'] <= Q3 + 1.5 *IQR)]"
   ]
  },
  {
   "cell_type": "markdown",
   "metadata": {},
   "source": [
    "**`required_car_parking_spaces`**: Number of car parking spaces required by the customer."
   ]
  },
  {
   "cell_type": "code",
   "execution_count": 242,
   "metadata": {},
   "outputs": [
    {
     "data": {
      "text/plain": [
       "5"
      ]
     },
     "execution_count": 242,
     "metadata": {},
     "output_type": "execute_result"
    }
   ],
   "source": [
    "#number of unique values\n",
    "bookings_df.required_car_parking_spaces.nunique()"
   ]
  },
  {
   "cell_type": "code",
   "execution_count": 243,
   "metadata": {},
   "outputs": [
    {
     "data": {
      "image/png": "[encoded data removed]",
      "text/plain": [
       "<Figure size 1440x720 with 3 Axes>"
      ]
     },
     "metadata": {
      "needs_background": "light"
     },
     "output_type": "display_data"
    }
   ],
   "source": [
    "fig, axs = plt.subplots(3, figsize=(20,10))\n",
    "sns.boxplot(\"required_car_parking_spaces\", data=bookings_df, ax=axs[0]);\n",
    "sns.distplot(bookings_df['required_car_parking_spaces'], ax=axs[1]);\n",
    "sns.countplot(bookings_df['required_car_parking_spaces'], palette = sns.color_palette(\"Blues\")[1::2], \n",
    "              order = bookings_df['required_car_parking_spaces'].value_counts().index, ax = axs[2]);"
   ]
  },
  {
   "cell_type": "code",
   "execution_count": 244,
   "metadata": {},
   "outputs": [
    {
     "data": {
      "text/plain": [
       "0    79336\n",
       "1     7165\n",
       "2       28\n",
       "3        3\n",
       "8        2\n",
       "Name: required_car_parking_spaces, dtype: int64"
      ]
     },
     "execution_count": 244,
     "metadata": {},
     "output_type": "execute_result"
    }
   ],
   "source": [
    "#occurrance of values\n",
    "bookings_df.required_car_parking_spaces.value_counts()"
   ]
  },
  {
   "cell_type": "code",
   "execution_count": 245,
   "metadata": {},
   "outputs": [],
   "source": [
    "#remove the outliers\n",
    "bookings_df_no_outliers = bookings_df_no_outliers[bookings_df_no_outliers.required_car_parking_spaces <= 2]"
   ]
  },
  {
   "cell_type": "markdown",
   "metadata": {},
   "source": [
    "**`total_of_special_requests`**: Number of special requests made by the customer (e.g. twin bed or high floor)."
   ]
  },
  {
   "cell_type": "code",
   "execution_count": 246,
   "metadata": {},
   "outputs": [
    {
     "data": {
      "text/plain": [
       "6"
      ]
     },
     "execution_count": 246,
     "metadata": {},
     "output_type": "execute_result"
    }
   ],
   "source": [
    "#number of unique values\n",
    "bookings_df.total_of_special_requests.nunique()"
   ]
  },
  {
   "cell_type": "code",
   "execution_count": 247,
   "metadata": {},
   "outputs": [
    {
     "data": {
      "image/png": "[encoded data removed]",
      "text/plain": [
       "<Figure size 1440x720 with 3 Axes>"
      ]
     },
     "metadata": {
      "needs_background": "light"
     },
     "output_type": "display_data"
    }
   ],
   "source": [
    "fig, axs = plt.subplots(3, figsize=(20,10))\n",
    "sns.boxplot(\"total_of_special_requests\", data=bookings_df, ax=axs[0]);\n",
    "sns.distplot(bookings_df['total_of_special_requests'], ax=axs[1]);\n",
    "sns.countplot(bookings_df['total_of_special_requests'], palette = sns.color_palette(\"Blues\")[1::2], \n",
    "              order = bookings_df['total_of_special_requests'].value_counts().index, ax = axs[2]);"
   ]
  },
  {
   "cell_type": "code",
   "execution_count": 248,
   "metadata": {},
   "outputs": [
    {
     "data": {
      "text/plain": [
       "0    43418\n",
       "1    28766\n",
       "2    11709\n",
       "3     2290\n",
       "4      317\n",
       "5       34\n",
       "Name: total_of_special_requests, dtype: int64"
      ]
     },
     "execution_count": 248,
     "metadata": {},
     "output_type": "execute_result"
    }
   ],
   "source": [
    "#occurrance of values\n",
    "bookings_df.total_of_special_requests.value_counts()"
   ]
  },
  {
   "cell_type": "code",
   "execution_count": 249,
   "metadata": {},
   "outputs": [],
   "source": [
    "#remove the outliers\n",
    "bookings_df_no_outliers = bookings_df_no_outliers[bookings_df_no_outliers.total_of_special_requests != 5]"
   ]
  },
  {
   "cell_type": "markdown",
   "metadata": {},
   "source": [
    "**The categorical features**"
   ]
  },
  {
   "cell_type": "code",
   "execution_count": 250,
   "metadata": {},
   "outputs": [
    {
     "name": "stdout",
     "output_type": "stream",
     "text": [
      "['hotel', 'arrival_date_month', 'meal', 'country', 'market_segment', 'distribution_channel', 'reserved_room_type', 'assigned_room_type', 'deposit_type', 'customer_type', 'reservation_status', 'reservation_status_date']\n"
     ]
    }
   ],
   "source": [
    "cat_features = list(bookings_df.select_dtypes(include= ['object']).columns)\n",
    "print(cat_features)"
   ]
  },
  {
   "cell_type": "code",
   "execution_count": 251,
   "metadata": {},
   "outputs": [
    {
     "name": "stdout",
     "output_type": "stream",
     "text": [
      "There are 12 categorical features\n"
     ]
    }
   ],
   "source": [
    "print('There are', len(cat_features),'categorical features')"
   ]
  },
  {
   "cell_type": "markdown",
   "metadata": {},
   "source": [
    "**`hotel`**: Resort Hotel or City Hotel."
   ]
  },
  {
   "cell_type": "code",
   "execution_count": 252,
   "metadata": {},
   "outputs": [
    {
     "data": {
      "text/plain": [
       "2"
      ]
     },
     "execution_count": 252,
     "metadata": {},
     "output_type": "execute_result"
    }
   ],
   "source": [
    "#number of unique values\n",
    "bookings_df.hotel.nunique()"
   ]
  },
  {
   "cell_type": "code",
   "execution_count": 253,
   "metadata": {},
   "outputs": [
    {
     "data": {
      "image/png": "[encoded data removed]",
      "text/plain": [
       "<Figure size 1440x216 with 1 Axes>"
      ]
     },
     "metadata": {
      "needs_background": "light"
     },
     "output_type": "display_data"
    }
   ],
   "source": [
    "plt.figure(figsize=(20,3))\n",
    "sns.countplot(bookings_df['hotel'], palette = sns.color_palette(\"Blues\")[1::2], \n",
    "              order = bookings_df['hotel'].value_counts().index);"
   ]
  },
  {
   "cell_type": "code",
   "execution_count": 254,
   "metadata": {},
   "outputs": [
    {
     "data": {
      "text/plain": [
       "City Hotel      53034\n",
       "Resort Hotel    33500\n",
       "Name: hotel, dtype: int64"
      ]
     },
     "execution_count": 254,
     "metadata": {},
     "output_type": "execute_result"
    }
   ],
   "source": [
    "#occurrance of values\n",
    "bookings_df.hotel.value_counts()"
   ]
  },
  {
   "cell_type": "markdown",
   "metadata": {},
   "source": [
    "**`arrival_date_month`**: Month of arrival date."
   ]
  },
  {
   "cell_type": "code",
   "execution_count": 255,
   "metadata": {},
   "outputs": [
    {
     "data": {
      "text/plain": [
       "12"
      ]
     },
     "execution_count": 255,
     "metadata": {},
     "output_type": "execute_result"
    }
   ],
   "source": [
    "#number of unique values\n",
    "bookings_df.arrival_date_month.nunique()"
   ]
  },
  {
   "cell_type": "code",
   "execution_count": 256,
   "metadata": {},
   "outputs": [
    {
     "data": {
      "image/png": "[encoded data removed]",
      "text/plain": [
       "<Figure size 1440x216 with 1 Axes>"
      ]
     },
     "metadata": {
      "needs_background": "light"
     },
     "output_type": "display_data"
    }
   ],
   "source": [
    "plt.figure(figsize=(20,3))\n",
    "sns.countplot(bookings_df['arrival_date_month'], palette = sns.color_palette(\"Blues\")[1::2], \n",
    "              order = bookings_df['arrival_date_month'].value_counts().index);"
   ]
  },
  {
   "cell_type": "code",
   "execution_count": 257,
   "metadata": {},
   "outputs": [
    {
     "data": {
      "text/plain": [
       "August    11182\n",
       "July       9974\n",
       "May        8315\n",
       "April      7841\n",
       "June       7732\n",
       "Name: arrival_date_month, dtype: int64"
      ]
     },
     "execution_count": 257,
     "metadata": {},
     "output_type": "execute_result"
    }
   ],
   "source": [
    "#5 most occurring values\n",
    "bookings_df.arrival_date_month.value_counts().head()"
   ]
  },
  {
   "cell_type": "code",
   "execution_count": 258,
   "metadata": {},
   "outputs": [
    {
     "data": {
      "text/plain": [
       "September    6638\n",
       "February     6008\n",
       "December     5039\n",
       "November     4924\n",
       "January      4610\n",
       "Name: arrival_date_month, dtype: int64"
      ]
     },
     "execution_count": 258,
     "metadata": {},
     "output_type": "execute_result"
    }
   ],
   "source": [
    "#5 least occurring values\n",
    "bookings_df.arrival_date_month.value_counts().tail()"
   ]
  },
  {
   "cell_type": "markdown",
   "metadata": {},
   "source": [
    "**`meal`**: Type of meal booked. Categories are presented in standard hospitality meal packages: \n",
    "- Undefined/SC – no meal package\n",
    "- BB – Bed & Breakfast\n",
    "- HB – Half board (breakfast and one other meal – usually dinner)\n",
    "- FB – Full board (breakfast, lunch, and dinner)"
   ]
  },
  {
   "cell_type": "code",
   "execution_count": 259,
   "metadata": {},
   "outputs": [
    {
     "data": {
      "text/plain": [
       "5"
      ]
     },
     "execution_count": 259,
     "metadata": {},
     "output_type": "execute_result"
    }
   ],
   "source": [
    "#number of unique values\n",
    "bookings_df.meal.nunique()"
   ]
  },
  {
   "cell_type": "code",
   "execution_count": 260,
   "metadata": {},
   "outputs": [
    {
     "data": {
      "image/png": "[encoded data removed]",
      "text/plain": [
       "<Figure size 1440x216 with 1 Axes>"
      ]
     },
     "metadata": {
      "needs_background": "light"
     },
     "output_type": "display_data"
    }
   ],
   "source": [
    "plt.figure(figsize=(20,3))\n",
    "sns.countplot(bookings_df['meal'], palette = sns.color_palette(\"Blues\")[1::2], \n",
    "              order = bookings_df['meal'].value_counts().index);"
   ]
  },
  {
   "cell_type": "code",
   "execution_count": 261,
   "metadata": {},
   "outputs": [
    {
     "data": {
      "text/plain": [
       "BB           67256\n",
       "SC            9386\n",
       "HB            9045\n",
       "Undefined      488\n",
       "FB             359\n",
       "Name: meal, dtype: int64"
      ]
     },
     "execution_count": 261,
     "metadata": {},
     "output_type": "execute_result"
    }
   ],
   "source": [
    "#occurrance of values\n",
    "bookings_df.meal.value_counts()"
   ]
  },
  {
   "cell_type": "markdown",
   "metadata": {},
   "source": [
    "We will replace SC and Undefined (because they refer to the same thing) with 'No Meal'."
   ]
  },
  {
   "cell_type": "code",
   "execution_count": 262,
   "metadata": {},
   "outputs": [],
   "source": [
    "bookings_df.meal = bookings_df.meal.str.replace('SC','No Meal').str.replace('Undefined','No Meal')\n",
    "bookings_df_no_outliers.meal = bookings_df_no_outliers.meal.str.replace('SC','No Meal').str\\\n",
    "                                                               .replace('Undefined','No Meal')"
   ]
  },
  {
   "cell_type": "code",
   "execution_count": 263,
   "metadata": {},
   "outputs": [],
   "source": [
    "#remove the outliers\n",
    "bookings_df_no_outliers = bookings_df_no_outliers[bookings_df_no_outliers['meal']\n",
    "                                                  .map(bookings_df_no_outliers['meal'].value_counts()) >= 500]"
   ]
  },
  {
   "cell_type": "markdown",
   "metadata": {},
   "source": [
    "**`country`**: Country of origin. Categories are represented in the ISO 3155–3:2013 format."
   ]
  },
  {
   "cell_type": "code",
   "execution_count": 264,
   "metadata": {},
   "outputs": [
    {
     "data": {
      "text/plain": [
       "177"
      ]
     },
     "execution_count": 264,
     "metadata": {},
     "output_type": "execute_result"
    }
   ],
   "source": [
    "#number of unique values\n",
    "bookings_df.country.nunique()"
   ]
  },
  {
   "cell_type": "code",
   "execution_count": 265,
   "metadata": {},
   "outputs": [
    {
     "data": {
      "image/png": "[encoded data removed]",
      "text/plain": [
       "<Figure size 1440x216 with 1 Axes>"
      ]
     },
     "metadata": {
      "needs_background": "light"
     },
     "output_type": "display_data"
    }
   ],
   "source": [
    "#Top 20\n",
    "plt.figure(figsize=(20,3))\n",
    "sns.countplot(bookings_df['country'], palette = sns.color_palette(\"Blues\")[1::2], \n",
    "              order = bookings_df['country'].value_counts().index[:20]);"
   ]
  },
  {
   "cell_type": "code",
   "execution_count": 266,
   "metadata": {},
   "outputs": [
    {
     "data": {
      "text/plain": [
       "PRT    27295\n",
       "GBR    10407\n",
       "FRA     8798\n",
       "ESP     7228\n",
       "DEU     5370\n",
       "Name: country, dtype: int64"
      ]
     },
     "execution_count": 266,
     "metadata": {},
     "output_type": "execute_result"
    }
   ],
   "source": [
    "#5 most occurring values\n",
    "bookings_df.country.value_counts().head()"
   ]
  },
  {
   "cell_type": "code",
   "execution_count": 267,
   "metadata": {},
   "outputs": [
    {
     "data": {
      "text/plain": [
       "MLI    1\n",
       "GUY    1\n",
       "DMA    1\n",
       "MMR    1\n",
       "ASM    1\n",
       "Name: country, dtype: int64"
      ]
     },
     "execution_count": 267,
     "metadata": {},
     "output_type": "execute_result"
    }
   ],
   "source": [
    "#5 least occurring values\n",
    "bookings_df.country.value_counts().tail()"
   ]
  },
  {
   "cell_type": "code",
   "execution_count": 268,
   "metadata": {},
   "outputs": [],
   "source": [
    "#remove the outliers\n",
    "bookings_df_no_outliers = bookings_df_no_outliers[bookings_df_no_outliers['country']\n",
    "                                                  .map(bookings_df_no_outliers['country'].value_counts()) >= 100]"
   ]
  },
  {
   "cell_type": "markdown",
   "metadata": {},
   "source": [
    "Since the values of the countries are represented in an uninterpretable format, we decided to convert them into their actual names. To accomplish this, we had to scrape the data from Wikipedia."
   ]
  },
  {
   "cell_type": "code",
   "execution_count": 269,
   "metadata": {},
   "outputs": [],
   "source": [
    "page = requests.get('https://en.wikipedia.org/wiki/List_of_ISO_3166_country_codes')\n",
    "soup = BeautifulSoup(page.content, \"html.parser\")\n",
    "\n",
    "countries_data = []\n",
    "for x in soup.find_all('table')[0].find_all('td'):\n",
    "    if '– See' in x.text.strip(): #skip these because they were empty rows\n",
    "        continue\n",
    "    countries_data.append(x.text.strip())"
   ]
  },
  {
   "cell_type": "code",
   "execution_count": 270,
   "metadata": {},
   "outputs": [
    {
     "data": {
      "text/plain": [
       "['Afghanistan',\n",
       " 'The Islamic Republic of Afghanistan',\n",
       " 'UN member state',\n",
       " '.mw-parser-output .monospaced{font-family:monospace,monospace}AF',\n",
       " 'AFG',\n",
       " '004',\n",
       " 'ISO 3166-2:AF',\n",
       " '.af',\n",
       " 'Åland Islands',\n",
       " 'Åland']"
      ]
     },
     "execution_count": 270,
     "metadata": {},
     "output_type": "execute_result"
    }
   ],
   "source": [
    "countries_data[:10]"
   ]
  },
  {
   "cell_type": "markdown",
   "metadata": {},
   "source": [
    "Now we just need to extract the country codes and their names."
   ]
  },
  {
   "cell_type": "code",
   "execution_count": 271,
   "metadata": {},
   "outputs": [
    {
     "name": "stdout",
     "output_type": "stream",
     "text": [
      "['AFG', 'ALA', 'ALB', 'DZA', 'ASM', 'AND', 'AGO', 'AIA', 'ATA', 'ATG']\n"
     ]
    }
   ],
   "source": [
    "#country codes\n",
    "country_codes = countries_data[4::8]\n",
    "print(country_codes[:10])"
   ]
  },
  {
   "cell_type": "code",
   "execution_count": 272,
   "metadata": {},
   "outputs": [
    {
     "name": "stdout",
     "output_type": "stream",
     "text": [
      "['Afghanistan', 'Åland Islands', 'Albania', 'Algeria', 'American Samoa', 'Andorra', 'Angola', 'Anguilla', 'Antarctica\\u200a[a]', 'Antigua and Barbuda']\n"
     ]
    }
   ],
   "source": [
    "#country names\n",
    "country_names = countries_data[::8]\n",
    "print(country_names[:10])"
   ]
  },
  {
   "cell_type": "code",
   "execution_count": 273,
   "metadata": {},
   "outputs": [],
   "source": [
    "clean_country_names = []\n",
    "for c in country_names:\n",
    "    c = c.replace('\\xa0',' ')\n",
    "    name = re.sub(r'\\([^)]*\\)', '', c) #this removes () and everything in between\n",
    "    name2 = re.sub(r'\\[.*\\]', '', name) #this removes [] and everything in between\n",
    "    if ',' in name2: #ex: 'Tanzania, the United Republic of', we only want the first part\n",
    "        clean_country_names.append(name2.split(',')[0].strip()) \n",
    "    else:\n",
    "        clean_country_names.append(name2.strip())"
   ]
  },
  {
   "cell_type": "code",
   "execution_count": 274,
   "metadata": {},
   "outputs": [],
   "source": [
    "#replacing the codes with the names of the countries\n",
    "for i in range(len(country_codes)):\n",
    "    bookings_df.country = bookings_df.country.str.replace(country_codes[i], clean_country_names[i])\n",
    "    bookings_df_no_outliers.country = bookings_df_no_outliers.country.str.replace(country_codes[i], \n",
    "                                                                                  clean_country_names[i])"
   ]
  },
  {
   "cell_type": "markdown",
   "metadata": {},
   "source": [
    "**`market_segment`**: Market segment designation. In categories, the term “TA” means “Travel Agents” and “TO” means “Tour Operators”."
   ]
  },
  {
   "cell_type": "code",
   "execution_count": 275,
   "metadata": {},
   "outputs": [
    {
     "data": {
      "text/plain": [
       "7"
      ]
     },
     "execution_count": 275,
     "metadata": {},
     "output_type": "execute_result"
    }
   ],
   "source": [
    "#number of unique values\n",
    "bookings_df.market_segment.nunique()"
   ]
  },
  {
   "cell_type": "code",
   "execution_count": 276,
   "metadata": {},
   "outputs": [
    {
     "data": {
      "image/png": "[encoded data removed]",
      "text/plain": [
       "<Figure size 1440x216 with 1 Axes>"
      ]
     },
     "metadata": {
      "needs_background": "light"
     },
     "output_type": "display_data"
    }
   ],
   "source": [
    "plt.figure(figsize=(20,3))\n",
    "sns.countplot(bookings_df['market_segment'], palette = sns.color_palette(\"Blues\")[1::2], \n",
    "              order = bookings_df['market_segment'].value_counts().index);"
   ]
  },
  {
   "cell_type": "code",
   "execution_count": 277,
   "metadata": {},
   "outputs": [
    {
     "data": {
      "text/plain": [
       "Online TA        51286\n",
       "Offline TA/TO    13814\n",
       "Direct           11592\n",
       "Groups            4916\n",
       "Corporate         4014\n",
       "Complementary      686\n",
       "Aviation           226\n",
       "Name: market_segment, dtype: int64"
      ]
     },
     "execution_count": 277,
     "metadata": {},
     "output_type": "execute_result"
    }
   ],
   "source": [
    "#occurrance of values\n",
    "bookings_df.market_segment.value_counts()"
   ]
  },
  {
   "cell_type": "code",
   "execution_count": 278,
   "metadata": {},
   "outputs": [],
   "source": [
    "#remove the outliers\n",
    "bookings_df_no_outliers = bookings_df_no_outliers[bookings_df_no_outliers['market_segment']\n",
    "                                                .map(bookings_df_no_outliers['market_segment'].value_counts()) >= 1000]"
   ]
  },
  {
   "cell_type": "markdown",
   "metadata": {},
   "source": [
    "**`distribution_channel`**: Booking distribution channel. The term “TA” means “Travel Agents” and “TO” means “Tour Operators”."
   ]
  },
  {
   "cell_type": "code",
   "execution_count": 279,
   "metadata": {},
   "outputs": [
    {
     "data": {
      "text/plain": [
       "5"
      ]
     },
     "execution_count": 279,
     "metadata": {},
     "output_type": "execute_result"
    }
   ],
   "source": [
    "#number of unique values\n",
    "bookings_df.distribution_channel.nunique()"
   ]
  },
  {
   "cell_type": "code",
   "execution_count": 280,
   "metadata": {},
   "outputs": [
    {
     "data": {
      "image/png": "[encoded data removed]",
      "text/plain": [
       "<Figure size 1440x216 with 1 Axes>"
      ]
     },
     "metadata": {
      "needs_background": "light"
     },
     "output_type": "display_data"
    }
   ],
   "source": [
    "plt.figure(figsize=(20,3))\n",
    "sns.countplot(bookings_df['distribution_channel'], palette = sns.color_palette(\"Blues\")[1::2], \n",
    "              order = bookings_df['distribution_channel'].value_counts().index);"
   ]
  },
  {
   "cell_type": "code",
   "execution_count": 281,
   "metadata": {},
   "outputs": [
    {
     "data": {
      "text/plain": [
       "TA/TO        68713\n",
       "Direct       12759\n",
       "Corporate     4880\n",
       "GDS            181\n",
       "Undefined        1\n",
       "Name: distribution_channel, dtype: int64"
      ]
     },
     "execution_count": 281,
     "metadata": {},
     "output_type": "execute_result"
    }
   ],
   "source": [
    "#occurrance of values\n",
    "bookings_df.distribution_channel.value_counts()"
   ]
  },
  {
   "cell_type": "code",
   "execution_count": 282,
   "metadata": {},
   "outputs": [],
   "source": [
    "#remove the outliers \n",
    "bookings_df_no_outliers = bookings_df_no_outliers[bookings_df_no_outliers['distribution_channel']\n",
    "                                        .map(bookings_df_no_outliers['distribution_channel'].value_counts()) >= 1000]"
   ]
  },
  {
   "cell_type": "markdown",
   "metadata": {},
   "source": [
    "**`reserved_room_type`**: Code of room type reserved. Code is presented instead of designation for anonymity reasons."
   ]
  },
  {
   "cell_type": "code",
   "execution_count": 283,
   "metadata": {},
   "outputs": [
    {
     "data": {
      "text/plain": [
       "9"
      ]
     },
     "execution_count": 283,
     "metadata": {},
     "output_type": "execute_result"
    }
   ],
   "source": [
    "#number of unique values\n",
    "bookings_df.reserved_room_type.nunique()"
   ]
  },
  {
   "cell_type": "code",
   "execution_count": 284,
   "metadata": {},
   "outputs": [
    {
     "data": {
      "image/png": "[encoded data removed]",
      "text/plain": [
       "<Figure size 1440x216 with 1 Axes>"
      ]
     },
     "metadata": {
      "needs_background": "light"
     },
     "output_type": "display_data"
    }
   ],
   "source": [
    "plt.figure(figsize=(20,3))\n",
    "sns.countplot(bookings_df['reserved_room_type'], palette = sns.color_palette(\"Blues\")[1::2], \n",
    "              order = bookings_df['reserved_room_type'].value_counts().index);"
   ]
  },
  {
   "cell_type": "code",
   "execution_count": 285,
   "metadata": {},
   "outputs": [
    {
     "data": {
      "text/plain": [
       "A    56041\n",
       "D    17347\n",
       "E     5995\n",
       "F     2811\n",
       "G     2038\n",
       "C      913\n",
       "B      787\n",
       "H      596\n",
       "L        6\n",
       "Name: reserved_room_type, dtype: int64"
      ]
     },
     "execution_count": 285,
     "metadata": {},
     "output_type": "execute_result"
    }
   ],
   "source": [
    "#occurrance of values\n",
    "bookings_df.reserved_room_type.value_counts()"
   ]
  },
  {
   "cell_type": "code",
   "execution_count": 286,
   "metadata": {},
   "outputs": [],
   "source": [
    "#remove the outliers\n",
    "bookings_df_no_outliers = bookings_df_no_outliers[bookings_df_no_outliers['reserved_room_type']\n",
    "                                        .map(bookings_df_no_outliers['reserved_room_type'].value_counts()) >= 1000]"
   ]
  },
  {
   "cell_type": "markdown",
   "metadata": {},
   "source": [
    "**`assigned_room_type`**: Code for the type of room assigned to the booking. Sometimes the assigned room type differs from the reserved room type due to hotel operation reasons (e.g. overbooking) or by customer request. Code is presented instead of designation for anonymity reasons."
   ]
  },
  {
   "cell_type": "code",
   "execution_count": 287,
   "metadata": {},
   "outputs": [
    {
     "data": {
      "text/plain": [
       "11"
      ]
     },
     "execution_count": 287,
     "metadata": {},
     "output_type": "execute_result"
    }
   ],
   "source": [
    "#number of unique values\n",
    "bookings_df.assigned_room_type.nunique()"
   ]
  },
  {
   "cell_type": "code",
   "execution_count": 288,
   "metadata": {},
   "outputs": [
    {
     "data": {
      "image/png": "[encoded data removed]",
      "text/plain": [
       "<Figure size 1440x216 with 1 Axes>"
      ]
     },
     "metadata": {
      "needs_background": "light"
     },
     "output_type": "display_data"
    }
   ],
   "source": [
    "plt.figure(figsize=(20,3))\n",
    "sns.countplot(bookings_df['assigned_room_type'], palette = sns.color_palette(\"Blues\")[1::2], \n",
    "              order = bookings_df['assigned_room_type'].value_counts().index);"
   ]
  },
  {
   "cell_type": "code",
   "execution_count": 289,
   "metadata": {},
   "outputs": [
    {
     "data": {
      "text/plain": [
       "A    46065\n",
       "D    22259\n",
       "E     7121\n",
       "F     3607\n",
       "G     2480\n",
       "C     2139\n",
       "B     1628\n",
       "H      702\n",
       "I      347\n",
       "K      185\n",
       "L        1\n",
       "Name: assigned_room_type, dtype: int64"
      ]
     },
     "execution_count": 289,
     "metadata": {},
     "output_type": "execute_result"
    }
   ],
   "source": [
    "#occurrance of values\n",
    "bookings_df.assigned_room_type.value_counts()"
   ]
  },
  {
   "cell_type": "code",
   "execution_count": 290,
   "metadata": {},
   "outputs": [],
   "source": [
    "#remove the outliers\n",
    "bookings_df_no_outliers = bookings_df_no_outliers[bookings_df_no_outliers['assigned_room_type']\n",
    "                                        .map(bookings_df_no_outliers['assigned_room_type'].value_counts()) >= 1000]"
   ]
  },
  {
   "cell_type": "markdown",
   "metadata": {},
   "source": [
    "**`deposit_type`**: Indication on if the customer deposited to guarantee the booking. This variable can assume three categories: \n",
    "- No Deposit – no deposit was made\n",
    "- Non Refund – a deposit was made in the value of the total stay cost\n",
    "- Refundable – a deposit was made with a value under the total cost of the stay \n"
   ]
  },
  {
   "cell_type": "code",
   "execution_count": 291,
   "metadata": {},
   "outputs": [
    {
     "data": {
      "text/plain": [
       "3"
      ]
     },
     "execution_count": 291,
     "metadata": {},
     "output_type": "execute_result"
    }
   ],
   "source": [
    "#number of unique values\n",
    "bookings_df.deposit_type.nunique()"
   ]
  },
  {
   "cell_type": "code",
   "execution_count": 292,
   "metadata": {},
   "outputs": [
    {
     "data": {
      "image/png": "[encoded data removed]",
      "text/plain": [
       "<Figure size 1440x216 with 1 Axes>"
      ]
     },
     "metadata": {
      "needs_background": "light"
     },
     "output_type": "display_data"
    }
   ],
   "source": [
    "plt.figure(figsize=(20,3))\n",
    "sns.countplot(bookings_df['deposit_type'], palette = sns.color_palette(\"Blues\")[1::2], \n",
    "              order = bookings_df['deposit_type'].value_counts().index);"
   ]
  },
  {
   "cell_type": "code",
   "execution_count": 293,
   "metadata": {},
   "outputs": [
    {
     "data": {
      "text/plain": [
       "No Deposit    85390\n",
       "Non Refund     1037\n",
       "Refundable      107\n",
       "Name: deposit_type, dtype: int64"
      ]
     },
     "execution_count": 293,
     "metadata": {},
     "output_type": "execute_result"
    }
   ],
   "source": [
    "#occurrance of values\n",
    "bookings_df.deposit_type.value_counts()"
   ]
  },
  {
   "cell_type": "markdown",
   "metadata": {},
   "source": [
    "**`customer_type`**: Type of booking, assuming one of four categories: \n",
    "- Contract – when the booking has an allotment or other type of contract associated with it\n",
    "- Group – when the booking is associated with a group\n",
    "- Transient – when the booking is not part of a group or contract and is not associated with another transient booking\n",
    "- Transient-party – when the booking is transient but is associated with at least another transient booking"
   ]
  },
  {
   "cell_type": "code",
   "execution_count": 294,
   "metadata": {},
   "outputs": [
    {
     "data": {
      "text/plain": [
       "4"
      ]
     },
     "execution_count": 294,
     "metadata": {},
     "output_type": "execute_result"
    }
   ],
   "source": [
    "#number of unique values\n",
    "bookings_df.customer_type.nunique()"
   ]
  },
  {
   "cell_type": "code",
   "execution_count": 295,
   "metadata": {},
   "outputs": [
    {
     "data": {
      "image/png": "[encoded data removed]",
      "text/plain": [
       "<Figure size 1440x216 with 1 Axes>"
      ]
     },
     "metadata": {
      "needs_background": "light"
     },
     "output_type": "display_data"
    }
   ],
   "source": [
    "plt.figure(figsize=(20,3))\n",
    "sns.countplot(bookings_df['customer_type'], palette = sns.color_palette(\"Blues\")[1::2], \n",
    "              order = bookings_df['customer_type'].value_counts().index);"
   ]
  },
  {
   "cell_type": "code",
   "execution_count": 296,
   "metadata": {},
   "outputs": [
    {
     "data": {
      "text/plain": [
       "Transient          71298\n",
       "Transient-Party    11568\n",
       "Contract            3134\n",
       "Group                534\n",
       "Name: customer_type, dtype: int64"
      ]
     },
     "execution_count": 296,
     "metadata": {},
     "output_type": "execute_result"
    }
   ],
   "source": [
    "#occurrance of values\n",
    "bookings_df.customer_type.value_counts()"
   ]
  },
  {
   "cell_type": "code",
   "execution_count": 297,
   "metadata": {},
   "outputs": [],
   "source": [
    "#remove the outliers\n",
    "bookings_df_no_outliers = bookings_df_no_outliers[bookings_df_no_outliers['customer_type']\n",
    "                                            .map(bookings_df_no_outliers['customer_type'].value_counts()) >= 1000]"
   ]
  },
  {
   "cell_type": "markdown",
   "metadata": {},
   "source": [
    "**`reservation_status`**: Reservation’s last status, assuming one of three categories: \n",
    "- Canceled – booking was canceled by the customer\n",
    "- Check-Out – customer has checked in but already departed\n",
    "- No-Show – the customer did not check-in and did inform the hotel of the reason why"
   ]
  },
  {
   "cell_type": "code",
   "execution_count": 298,
   "metadata": {},
   "outputs": [
    {
     "data": {
      "text/plain": [
       "3"
      ]
     },
     "execution_count": 298,
     "metadata": {},
     "output_type": "execute_result"
    }
   ],
   "source": [
    "#number of unique values\n",
    "bookings_df.reservation_status.nunique()"
   ]
  },
  {
   "cell_type": "code",
   "execution_count": 299,
   "metadata": {},
   "outputs": [
    {
     "data": {
      "image/png": "[encoded data removed]",
      "text/plain": [
       "<Figure size 1440x216 with 1 Axes>"
      ]
     },
     "metadata": {
      "needs_background": "light"
     },
     "output_type": "display_data"
    }
   ],
   "source": [
    "plt.figure(figsize=(20,3))\n",
    "sns.countplot(bookings_df['reservation_status'], palette = sns.color_palette(\"Blues\")[1::2], \n",
    "              order = bookings_df['reservation_status'].value_counts().index);"
   ]
  },
  {
   "cell_type": "code",
   "execution_count": 300,
   "metadata": {},
   "outputs": [
    {
     "data": {
      "text/plain": [
       "Check-Out    62643\n",
       "Canceled     22885\n",
       "No-Show       1006\n",
       "Name: reservation_status, dtype: int64"
      ]
     },
     "execution_count": 300,
     "metadata": {},
     "output_type": "execute_result"
    }
   ],
   "source": [
    "#occurrance of values\n",
    "bookings_df.reservation_status.value_counts()"
   ]
  },
  {
   "cell_type": "markdown",
   "metadata": {},
   "source": [
    "This feature has direct relation with our target, as in it tells us if the booking was canceled, therefore, it should be dropped."
   ]
  },
  {
   "cell_type": "code",
   "execution_count": 301,
   "metadata": {},
   "outputs": [],
   "source": [
    "bookings_df.drop(columns=['reservation_status'], inplace=True)\n",
    "bookings_df_no_outliers.drop(columns=['reservation_status'], inplace=True)"
   ]
  },
  {
   "cell_type": "markdown",
   "metadata": {},
   "source": [
    "**`reservation_status_date`**: Date at which the last status was set."
   ]
  },
  {
   "cell_type": "code",
   "execution_count": 302,
   "metadata": {},
   "outputs": [
    {
     "data": {
      "text/plain": [
       "926"
      ]
     },
     "execution_count": 302,
     "metadata": {},
     "output_type": "execute_result"
    }
   ],
   "source": [
    "#number of unique values\n",
    "bookings_df.reservation_status_date.nunique()"
   ]
  },
  {
   "cell_type": "code",
   "execution_count": 303,
   "metadata": {},
   "outputs": [
    {
     "data": {
      "image/png": "[encoded data removed]",
      "text/plain": [
       "<Figure size 1440x72 with 1 Axes>"
      ]
     },
     "metadata": {
      "needs_background": "light"
     },
     "output_type": "display_data"
    }
   ],
   "source": [
    "#distribution\n",
    "plt.figure(figsize=(20,1))\n",
    "sns.boxplot(\"reservation_status_date\", data= pd.DataFrame(bookings_df['reservation_status_date']\n",
    "                                                        .map(bookings_df['reservation_status_date'].value_counts())));"
   ]
  },
  {
   "cell_type": "markdown",
   "metadata": {},
   "source": [
    "Since there are too many unique values, we decided to just extract the month and year"
   ]
  },
  {
   "cell_type": "markdown",
   "metadata": {},
   "source": [
    "**`reservation_status_month`**: Month at which the last status was set."
   ]
  },
  {
   "cell_type": "code",
   "execution_count": 304,
   "metadata": {},
   "outputs": [],
   "source": [
    "bookings_df['reservation_status_month'] = pd.DatetimeIndex(bookings_df['reservation_status_date']).month\n",
    "bookings_df_no_outliers['reservation_status_month'] = pd.DatetimeIndex(bookings_df_no_outliers\n",
    "                                                                       ['reservation_status_date']).month"
   ]
  },
  {
   "cell_type": "code",
   "execution_count": 305,
   "metadata": {},
   "outputs": [
    {
     "data": {
      "text/plain": [
       "12"
      ]
     },
     "execution_count": 305,
     "metadata": {},
     "output_type": "execute_result"
    }
   ],
   "source": [
    "#number of unique values\n",
    "bookings_df.reservation_status_month.nunique()"
   ]
  },
  {
   "cell_type": "code",
   "execution_count": 306,
   "metadata": {},
   "outputs": [
    {
     "data": {
      "image/png": "[encoded data removed]",
      "text/plain": [
       "<Figure size 1440x216 with 1 Axes>"
      ]
     },
     "metadata": {
      "needs_background": "light"
     },
     "output_type": "display_data"
    }
   ],
   "source": [
    "plt.figure(figsize=(20,3))\n",
    "sns.countplot(bookings_df['reservation_status_month'], palette = sns.color_palette(\"Blues\")[1::2], \n",
    "              order = bookings_df['reservation_status_month'].value_counts().index);"
   ]
  },
  {
   "cell_type": "code",
   "execution_count": 307,
   "metadata": {},
   "outputs": [
    {
     "data": {
      "text/plain": [
       "8    9200\n",
       "7    8766\n",
       "5    8160\n",
       "3    8069\n",
       "4    7771\n",
       "Name: reservation_status_month, dtype: int64"
      ]
     },
     "execution_count": 307,
     "metadata": {},
     "output_type": "execute_result"
    }
   ],
   "source": [
    "#5 most occurring values\n",
    "bookings_df.reservation_status_month.value_counts().head()"
   ]
  },
  {
   "cell_type": "code",
   "execution_count": 308,
   "metadata": {},
   "outputs": [
    {
     "data": {
      "text/plain": [
       "9     6855\n",
       "10    6783\n",
       "1     6390\n",
       "11    5556\n",
       "12    4698\n",
       "Name: reservation_status_month, dtype: int64"
      ]
     },
     "execution_count": 308,
     "metadata": {},
     "output_type": "execute_result"
    }
   ],
   "source": [
    "#5 least occurring values\n",
    "bookings_df.reservation_status_month.value_counts().tail()"
   ]
  },
  {
   "cell_type": "markdown",
   "metadata": {},
   "source": [
    "**`reservation_status_year`**: Year at which the last status was set."
   ]
  },
  {
   "cell_type": "code",
   "execution_count": 309,
   "metadata": {},
   "outputs": [],
   "source": [
    "bookings_df['reservation_status_year'] = pd.DatetimeIndex(bookings_df['reservation_status_date']).year\n",
    "bookings_df_no_outliers['reservation_status_year'] = pd.DatetimeIndex(bookings_df_no_outliers\n",
    "                                                                      ['reservation_status_date']).year"
   ]
  },
  {
   "cell_type": "code",
   "execution_count": 310,
   "metadata": {},
   "outputs": [
    {
     "data": {
      "text/plain": [
       "4"
      ]
     },
     "execution_count": 310,
     "metadata": {},
     "output_type": "execute_result"
    }
   ],
   "source": [
    "#number of unique values\n",
    "bookings_df.reservation_status_year.nunique()"
   ]
  },
  {
   "cell_type": "code",
   "execution_count": 311,
   "metadata": {},
   "outputs": [
    {
     "data": {
      "image/png": "[encoded data removed]",
      "text/plain": [
       "<Figure size 1440x216 with 1 Axes>"
      ]
     },
     "metadata": {
      "needs_background": "light"
     },
     "output_type": "display_data"
    }
   ],
   "source": [
    "plt.figure(figsize=(20,3))\n",
    "sns.countplot(bookings_df['reservation_status_year'], palette = sns.color_palette(\"Blues\")[1::2], \n",
    "              order = bookings_df['reservation_status_year'].value_counts().index);"
   ]
  },
  {
   "cell_type": "code",
   "execution_count": 312,
   "metadata": {},
   "outputs": [
    {
     "data": {
      "text/plain": [
       "2016    43421\n",
       "2017    29717\n",
       "2015    13384\n",
       "2014       12\n",
       "Name: reservation_status_year, dtype: int64"
      ]
     },
     "execution_count": 312,
     "metadata": {},
     "output_type": "execute_result"
    }
   ],
   "source": [
    "#occurrance of values\n",
    "bookings_df.reservation_status_year.value_counts()"
   ]
  },
  {
   "cell_type": "code",
   "execution_count": 313,
   "metadata": {},
   "outputs": [],
   "source": [
    "#remove the outliers\n",
    "bookings_df_no_outliers = bookings_df_no_outliers[bookings_df_no_outliers['reservation_status_year'] != 2014]"
   ]
  },
  {
   "cell_type": "code",
   "execution_count": 314,
   "metadata": {},
   "outputs": [],
   "source": [
    "#since we extracted the month and year, we no longer need this feature\n",
    "bookings_df.drop(columns=['reservation_status_date'], inplace=True)\n",
    "bookings_df_no_outliers.drop(columns=['reservation_status_date'], inplace=True)"
   ]
  },
  {
   "cell_type": "code",
   "execution_count": 315,
   "metadata": {},
   "outputs": [],
   "source": [
    "#reseting the index\n",
    "bookings_df.reset_index(drop=True, inplace=True)\n",
    "bookings_df_no_outliers.reset_index(drop=True, inplace=True)"
   ]
  },
  {
   "cell_type": "markdown",
   "metadata": {},
   "source": [
    "**The target feature**"
   ]
  },
  {
   "cell_type": "markdown",
   "metadata": {},
   "source": [
    "**`is_canceled`**: Value indicating if the booking was canceled (1) or not (0)."
   ]
  },
  {
   "cell_type": "code",
   "execution_count": 316,
   "metadata": {},
   "outputs": [
    {
     "name": "stdout",
     "output_type": "stream",
     "text": [
      "There are 23891 positive observations and 62643 negative observations\n",
      "Percentage of the positive observations:27.61%\n",
      "Percentage of the positive observations:72.39%\n"
     ]
    }
   ],
   "source": [
    "#clean data\n",
    "target_counts = bookings_df.is_canceled.value_counts()\n",
    "print('There are',target_counts[1],'positive observations and',target_counts[0],'negative observations')\n",
    "\n",
    "pos = target_counts[1] / (target_counts[0]+target_counts[1]) * 100\n",
    "print(f'Percentage of the positive observations:{pos:.2f}%')\n",
    "\n",
    "neg = target_counts[0] / (target_counts[0]+target_counts[1]) * 100\n",
    "print(f'Percentage of the positive observations:{neg:.2f}%')"
   ]
  },
  {
   "cell_type": "code",
   "execution_count": 317,
   "metadata": {},
   "outputs": [
    {
     "name": "stdout",
     "output_type": "stream",
     "text": [
      "There are 21262 positive observations and 55324 negative observations\n",
      "Percentage of the positive observations:27.76%\n",
      "Percentage of the positive observations:72.24%\n"
     ]
    }
   ],
   "source": [
    "#clean data with no outliers\n",
    "target_counts_no_outliers = bookings_df_no_outliers.is_canceled.value_counts()\n",
    "print('There are',target_counts_no_outliers[1],'positive observations and',\n",
    "      target_counts_no_outliers[0],'negative observations')\n",
    "\n",
    "pos = target_counts_no_outliers[1] / (target_counts_no_outliers[0]+target_counts_no_outliers[1]) * 100\n",
    "print(f'Percentage of the positive observations:{pos:.2f}%')\n",
    "\n",
    "neg = target_counts_no_outliers[0] / (target_counts_no_outliers[0]+target_counts_no_outliers[1]) * 100\n",
    "print(f'Percentage of the positive observations:{neg:.2f}%')"
   ]
  },
  {
   "cell_type": "code",
   "execution_count": 318,
   "metadata": {},
   "outputs": [],
   "source": [
    "#saving the clean data\n",
    "bookings_df.to_csv('hotel_bookings_clean.csv', index=False)\n",
    "bookings_df_no_outliers.to_csv('hotel_bookings_clean_no_outliers.csv', index=False)"
   ]
  }
 ],
 "metadata": {
  "kernelspec": {
   "display_name": "Python 3",
   "language": "python",
   "name": "python3"
  },
  "language_info": {
   "codemirror_mode": {
    "name": "ipython",
    "version": 3
   },
   "file_extension": ".py",
   "mimetype": "text/x-python",
   "name": "python",
   "nbconvert_exporter": "python",
   "pygments_lexer": "ipython3",
   "version": "3.7.4"
  }
 },
 "nbformat": 4,
 "nbformat_minor": 4
}
